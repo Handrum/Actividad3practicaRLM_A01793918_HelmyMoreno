{
  "nbformat": 4,
  "nbformat_minor": 0,
  "metadata": {
    "colab": {
      "provenance": [],
      "collapsed_sections": [
        "PZ-e_gK8dIqV",
        "gn3kKEGSI-rB",
        "4mzuVEV76Owg",
        "MWnC5yszs7VR"
      ],
      "include_colab_link": true
    },
    "kernelspec": {
      "name": "python3",
      "display_name": "Python 3"
    }
  },
  "cells": [
    {
      "cell_type": "markdown",
      "metadata": {
        "id": "view-in-github",
        "colab_type": "text"
      },
      "source": [
        "<a href=\"https://colab.research.google.com/github/Handrum/Actividad3practicaRLM_A01793918_HelmyMoreno/blob/main/MNA_IAyAA_semana_2_Actividad.ipynb\" target=\"_parent\"><img src=\"https://colab.research.google.com/assets/colab-badge.svg\" alt=\"Open In Colab\"/></a>"
      ]
    },
    {
      "cell_type": "markdown",
      "source": [
        "#**Actividad de la semana 2**\n",
        "\n",
        "###**Maestría en Inteligencia Artificial Aplicada**\n",
        "###**Curso: Inteligencia Artificial y Aprendizaje Automático**\n",
        "####**Tecnológico de Monterrey**\n",
        "#####**Prof Luis Eduardo Falcón Morales**\n",
        "\n",
        "###**Nombre del estudiante: (Helmy Andrea Moreno Navarro)**\n",
        "\n",
        "###**Matrícula: (A01793918)**"
      ],
      "metadata": {
        "id": "PZ-e_gK8dIqV"
      }
    },
    {
      "cell_type": "markdown",
      "source": [
        "**NOTAS:**\n",
        "\n",
        "*   El siguiente documento supone que ejecutarás el archivo con Google-Colab.\n",
        "*   Se trabajará solamente con el archivo \"california_housing_train.csv\".\n",
        "*   Si no trabajas con Google-Colab, deberás descargar el archivo y trabajarlo en la aplicación de tu preferencia.\n",
        "*   Esta actividad consta solamente de 3 ejercicios, dividios en 3 partes.\n",
        "*   **Solamente deberás modificar este archivo agregando tus líneas de código en las 3 partes que se te indican.** \n",
        "*   **Cualquier modificación fuera de estas áreas te restará puntos a la actividad.**"
      ],
      "metadata": {
        "id": "fK-Lmp38ud_Z"
      }
    },
    {
      "cell_type": "code",
      "source": [
        "import numpy as np\n",
        "import pandas as pd\n",
        "import matplotlib.pyplot as plt \n",
        "import seaborn as sns  \n",
        "import os\n",
        "\n",
        "from sklearn.pipeline import Pipeline\n",
        "from sklearn.model_selection import KFold\n",
        "from sklearn.compose import ColumnTransformer\n",
        "from sklearn.preprocessing import power_transform\n",
        "from sklearn.preprocessing import FunctionTransformer\n",
        "from scipy import stats\n",
        "\n",
        "from sklearn.impute import SimpleImputer\n",
        "from sklearn.preprocessing import MinMaxScaler  \n",
        "from sklearn.linear_model import LinearRegression"
      ],
      "metadata": {
        "id": "q6iEu4qMuiqX"
      },
      "execution_count": 1,
      "outputs": []
    },
    {
      "cell_type": "code",
      "source": [
        "# Cargamos el archivo que está en la siguiente carpeta de Google-Colab:\n",
        "DIR = \"/content/sample_data/\"\n",
        "os.chdir(DIR)\n",
        "\n",
        "misdatos = pd.read_csv(\"california_housing_train.csv\", sep=\",\")\n",
        "misdatos.describe()"
      ],
      "metadata": {
        "id": "_wBCY35nukPF",
        "colab": {
          "base_uri": "https://localhost:8080/",
          "height": 300
        },
        "outputId": "08fdf496-1b36-4971-bfb5-dd155e274e17"
      },
      "execution_count": 2,
      "outputs": [
        {
          "output_type": "execute_result",
          "data": {
            "text/plain": [
              "          longitude      latitude  housing_median_age   total_rooms  \\\n",
              "count  17000.000000  17000.000000        17000.000000  17000.000000   \n",
              "mean    -119.562108     35.625225           28.589353   2643.664412   \n",
              "std        2.005166      2.137340           12.586937   2179.947071   \n",
              "min     -124.350000     32.540000            1.000000      2.000000   \n",
              "25%     -121.790000     33.930000           18.000000   1462.000000   \n",
              "50%     -118.490000     34.250000           29.000000   2127.000000   \n",
              "75%     -118.000000     37.720000           37.000000   3151.250000   \n",
              "max     -114.310000     41.950000           52.000000  37937.000000   \n",
              "\n",
              "       total_bedrooms    population    households  median_income  \\\n",
              "count    17000.000000  17000.000000  17000.000000   17000.000000   \n",
              "mean       539.410824   1429.573941    501.221941       3.883578   \n",
              "std        421.499452   1147.852959    384.520841       1.908157   \n",
              "min          1.000000      3.000000      1.000000       0.499900   \n",
              "25%        297.000000    790.000000    282.000000       2.566375   \n",
              "50%        434.000000   1167.000000    409.000000       3.544600   \n",
              "75%        648.250000   1721.000000    605.250000       4.767000   \n",
              "max       6445.000000  35682.000000   6082.000000      15.000100   \n",
              "\n",
              "       median_house_value  \n",
              "count        17000.000000  \n",
              "mean        207300.912353  \n",
              "std         115983.764387  \n",
              "min          14999.000000  \n",
              "25%         119400.000000  \n",
              "50%         180400.000000  \n",
              "75%         265000.000000  \n",
              "max         500001.000000  "
            ],
            "text/html": [
              "\n",
              "  <div id=\"df-46409f99-6767-4c1b-b435-81a3a24ee587\">\n",
              "    <div class=\"colab-df-container\">\n",
              "      <div>\n",
              "<style scoped>\n",
              "    .dataframe tbody tr th:only-of-type {\n",
              "        vertical-align: middle;\n",
              "    }\n",
              "\n",
              "    .dataframe tbody tr th {\n",
              "        vertical-align: top;\n",
              "    }\n",
              "\n",
              "    .dataframe thead th {\n",
              "        text-align: right;\n",
              "    }\n",
              "</style>\n",
              "<table border=\"1\" class=\"dataframe\">\n",
              "  <thead>\n",
              "    <tr style=\"text-align: right;\">\n",
              "      <th></th>\n",
              "      <th>longitude</th>\n",
              "      <th>latitude</th>\n",
              "      <th>housing_median_age</th>\n",
              "      <th>total_rooms</th>\n",
              "      <th>total_bedrooms</th>\n",
              "      <th>population</th>\n",
              "      <th>households</th>\n",
              "      <th>median_income</th>\n",
              "      <th>median_house_value</th>\n",
              "    </tr>\n",
              "  </thead>\n",
              "  <tbody>\n",
              "    <tr>\n",
              "      <th>count</th>\n",
              "      <td>17000.000000</td>\n",
              "      <td>17000.000000</td>\n",
              "      <td>17000.000000</td>\n",
              "      <td>17000.000000</td>\n",
              "      <td>17000.000000</td>\n",
              "      <td>17000.000000</td>\n",
              "      <td>17000.000000</td>\n",
              "      <td>17000.000000</td>\n",
              "      <td>17000.000000</td>\n",
              "    </tr>\n",
              "    <tr>\n",
              "      <th>mean</th>\n",
              "      <td>-119.562108</td>\n",
              "      <td>35.625225</td>\n",
              "      <td>28.589353</td>\n",
              "      <td>2643.664412</td>\n",
              "      <td>539.410824</td>\n",
              "      <td>1429.573941</td>\n",
              "      <td>501.221941</td>\n",
              "      <td>3.883578</td>\n",
              "      <td>207300.912353</td>\n",
              "    </tr>\n",
              "    <tr>\n",
              "      <th>std</th>\n",
              "      <td>2.005166</td>\n",
              "      <td>2.137340</td>\n",
              "      <td>12.586937</td>\n",
              "      <td>2179.947071</td>\n",
              "      <td>421.499452</td>\n",
              "      <td>1147.852959</td>\n",
              "      <td>384.520841</td>\n",
              "      <td>1.908157</td>\n",
              "      <td>115983.764387</td>\n",
              "    </tr>\n",
              "    <tr>\n",
              "      <th>min</th>\n",
              "      <td>-124.350000</td>\n",
              "      <td>32.540000</td>\n",
              "      <td>1.000000</td>\n",
              "      <td>2.000000</td>\n",
              "      <td>1.000000</td>\n",
              "      <td>3.000000</td>\n",
              "      <td>1.000000</td>\n",
              "      <td>0.499900</td>\n",
              "      <td>14999.000000</td>\n",
              "    </tr>\n",
              "    <tr>\n",
              "      <th>25%</th>\n",
              "      <td>-121.790000</td>\n",
              "      <td>33.930000</td>\n",
              "      <td>18.000000</td>\n",
              "      <td>1462.000000</td>\n",
              "      <td>297.000000</td>\n",
              "      <td>790.000000</td>\n",
              "      <td>282.000000</td>\n",
              "      <td>2.566375</td>\n",
              "      <td>119400.000000</td>\n",
              "    </tr>\n",
              "    <tr>\n",
              "      <th>50%</th>\n",
              "      <td>-118.490000</td>\n",
              "      <td>34.250000</td>\n",
              "      <td>29.000000</td>\n",
              "      <td>2127.000000</td>\n",
              "      <td>434.000000</td>\n",
              "      <td>1167.000000</td>\n",
              "      <td>409.000000</td>\n",
              "      <td>3.544600</td>\n",
              "      <td>180400.000000</td>\n",
              "    </tr>\n",
              "    <tr>\n",
              "      <th>75%</th>\n",
              "      <td>-118.000000</td>\n",
              "      <td>37.720000</td>\n",
              "      <td>37.000000</td>\n",
              "      <td>3151.250000</td>\n",
              "      <td>648.250000</td>\n",
              "      <td>1721.000000</td>\n",
              "      <td>605.250000</td>\n",
              "      <td>4.767000</td>\n",
              "      <td>265000.000000</td>\n",
              "    </tr>\n",
              "    <tr>\n",
              "      <th>max</th>\n",
              "      <td>-114.310000</td>\n",
              "      <td>41.950000</td>\n",
              "      <td>52.000000</td>\n",
              "      <td>37937.000000</td>\n",
              "      <td>6445.000000</td>\n",
              "      <td>35682.000000</td>\n",
              "      <td>6082.000000</td>\n",
              "      <td>15.000100</td>\n",
              "      <td>500001.000000</td>\n",
              "    </tr>\n",
              "  </tbody>\n",
              "</table>\n",
              "</div>\n",
              "      <button class=\"colab-df-convert\" onclick=\"convertToInteractive('df-46409f99-6767-4c1b-b435-81a3a24ee587')\"\n",
              "              title=\"Convert this dataframe to an interactive table.\"\n",
              "              style=\"display:none;\">\n",
              "        \n",
              "  <svg xmlns=\"http://www.w3.org/2000/svg\" height=\"24px\"viewBox=\"0 0 24 24\"\n",
              "       width=\"24px\">\n",
              "    <path d=\"M0 0h24v24H0V0z\" fill=\"none\"/>\n",
              "    <path d=\"M18.56 5.44l.94 2.06.94-2.06 2.06-.94-2.06-.94-.94-2.06-.94 2.06-2.06.94zm-11 1L8.5 8.5l.94-2.06 2.06-.94-2.06-.94L8.5 2.5l-.94 2.06-2.06.94zm10 10l.94 2.06.94-2.06 2.06-.94-2.06-.94-.94-2.06-.94 2.06-2.06.94z\"/><path d=\"M17.41 7.96l-1.37-1.37c-.4-.4-.92-.59-1.43-.59-.52 0-1.04.2-1.43.59L10.3 9.45l-7.72 7.72c-.78.78-.78 2.05 0 2.83L4 21.41c.39.39.9.59 1.41.59.51 0 1.02-.2 1.41-.59l7.78-7.78 2.81-2.81c.8-.78.8-2.07 0-2.86zM5.41 20L4 18.59l7.72-7.72 1.47 1.35L5.41 20z\"/>\n",
              "  </svg>\n",
              "      </button>\n",
              "      \n",
              "  <style>\n",
              "    .colab-df-container {\n",
              "      display:flex;\n",
              "      flex-wrap:wrap;\n",
              "      gap: 12px;\n",
              "    }\n",
              "\n",
              "    .colab-df-convert {\n",
              "      background-color: #E8F0FE;\n",
              "      border: none;\n",
              "      border-radius: 50%;\n",
              "      cursor: pointer;\n",
              "      display: none;\n",
              "      fill: #1967D2;\n",
              "      height: 32px;\n",
              "      padding: 0 0 0 0;\n",
              "      width: 32px;\n",
              "    }\n",
              "\n",
              "    .colab-df-convert:hover {\n",
              "      background-color: #E2EBFA;\n",
              "      box-shadow: 0px 1px 2px rgba(60, 64, 67, 0.3), 0px 1px 3px 1px rgba(60, 64, 67, 0.15);\n",
              "      fill: #174EA6;\n",
              "    }\n",
              "\n",
              "    [theme=dark] .colab-df-convert {\n",
              "      background-color: #3B4455;\n",
              "      fill: #D2E3FC;\n",
              "    }\n",
              "\n",
              "    [theme=dark] .colab-df-convert:hover {\n",
              "      background-color: #434B5C;\n",
              "      box-shadow: 0px 1px 3px 1px rgba(0, 0, 0, 0.15);\n",
              "      filter: drop-shadow(0px 1px 2px rgba(0, 0, 0, 0.3));\n",
              "      fill: #FFFFFF;\n",
              "    }\n",
              "  </style>\n",
              "\n",
              "      <script>\n",
              "        const buttonEl =\n",
              "          document.querySelector('#df-46409f99-6767-4c1b-b435-81a3a24ee587 button.colab-df-convert');\n",
              "        buttonEl.style.display =\n",
              "          google.colab.kernel.accessAllowed ? 'block' : 'none';\n",
              "\n",
              "        async function convertToInteractive(key) {\n",
              "          const element = document.querySelector('#df-46409f99-6767-4c1b-b435-81a3a24ee587');\n",
              "          const dataTable =\n",
              "            await google.colab.kernel.invokeFunction('convertToInteractive',\n",
              "                                                     [key], {});\n",
              "          if (!dataTable) return;\n",
              "\n",
              "          const docLinkHtml = 'Like what you see? Visit the ' +\n",
              "            '<a target=\"_blank\" href=https://colab.research.google.com/notebooks/data_table.ipynb>data table notebook</a>'\n",
              "            + ' to learn more about interactive tables.';\n",
              "          element.innerHTML = '';\n",
              "          dataTable['output_type'] = 'display_data';\n",
              "          await google.colab.output.renderOutput(dataTable, element);\n",
              "          const docLink = document.createElement('div');\n",
              "          docLink.innerHTML = docLinkHtml;\n",
              "          element.appendChild(docLink);\n",
              "        }\n",
              "      </script>\n",
              "    </div>\n",
              "  </div>\n",
              "  "
            ]
          },
          "metadata": {},
          "execution_count": 2
        }
      ]
    },
    {
      "cell_type": "markdown",
      "source": [
        "#**Ejercicio - 1: Matriz de Correlación de Pearson**"
      ],
      "metadata": {
        "id": "gn3kKEGSI-rB"
      }
    },
    {
      "cell_type": "markdown",
      "source": [
        "INSTRUCCIONES:\n",
        "\n",
        "En este ejercicio debes solamente desplegar la matriz de correlación de las variables del dataframe \"misdatos\", incluyendo en cada celda de la matriz el valor numérico de la correlación entre cada par variables. \n",
        "\n",
        "Al desplegar la matriz de correlación deberás además usar la opción del mapa de calor (heatmap) de la librería seaborn, usando el mapa de color 'BuGn'. \n",
        "\n",
        "Puedes consultar la siguiente documentación:\n",
        "\n",
        "https://pandas.pydata.org/docs/reference/api/pandas.DataFrame.corr.html\n",
        "\n",
        "https://seaborn.pydata.org/generated/seaborn.heatmap.html\n",
        "\n",
        "https://matplotlib.org/stable/tutorials/colors/colormaps.html\n"
      ],
      "metadata": {
        "id": "uJ6X6y9-5Up3"
      }
    },
    {
      "cell_type": "code",
      "source": [
        "sns.set(rc={'figure.figsize':(9,6)}) \n",
        "\n",
        "#########################################################################\n",
        "# INICIA LA SECCIÓN PARA AGREGAR CÓDIGO.\n",
        "# Ejercicio 1\n",
        "# Sustituye \"None\" por tus líneas de código dentro de esta región.\n",
        "# Se esperan cuando mucho 2 líneas de código.\n",
        "\n",
        "df = misdatos.corr(method='pearson')\n",
        "\n",
        "ax = sns.heatmap(df, cmap='BuGn')\n",
        "\n",
        "# TERMINA LA SECCIÓN PARA AGREGAR CÓDIGO.\n",
        "#########################################################################\n",
        "\n",
        "plt.show()"
      ],
      "metadata": {
        "id": "ooYVR8x65Znv",
        "colab": {
          "base_uri": "https://localhost:8080/",
          "height": 0
        },
        "outputId": "0a2de6e1-4256-47a4-ce93-1592bf98448d"
      },
      "execution_count": 3,
      "outputs": [
        {
          "output_type": "display_data",
          "data": {
            "text/plain": [
              "<Figure size 648x432 with 2 Axes>"
            ],
            "image/png": "[encoded data removed]"
          },
          "metadata": {}
        }
      ]
    },
    {
      "cell_type": "markdown",
      "source": [
        "#**Ejercicio - 2: Transformaciones e Hisotgramas de variables**"
      ],
      "metadata": {
        "id": "4mzuVEV76Owg"
      }
    },
    {
      "cell_type": "markdown",
      "source": [
        "INSTRUCCIONES:\n",
        "\n",
        "En este ejercicio se trabajará solamente con las siguientes 7 variables: \n",
        "\n",
        "*   housing_median_age\n",
        "*   total_rooms\n",
        "*   total_bedrooms\n",
        "*   population\n",
        "*   households\n",
        "*   median_income\n",
        "*   median_house_value\n",
        "\n",
        "A cada una de dichas columnas les deberás aplicar las siguientes transformaciones y desplegar sus histogramas con 20 barras (bins):\n",
        "\n",
        "*   Raíz cuadrada con Numpy.\n",
        "*   Logaritmo natural con Numpy.\n",
        "*   Potencia 2 (i.e., elevar al cuadrado) con Numpy.\n",
        "*   Box-Cox con scikit-learn.\n"
      ],
      "metadata": {
        "id": "r8tTbnfiHiY6"
      }
    },
    {
      "cell_type": "code",
      "source": [
        "\n",
        "# Lista de los nombres de las 7 variables que trabajaremos en este ejercicio.\n",
        "variables_a_transformar = ['housing_median_age','total_rooms','total_bedrooms','population','households','median_income','median_house_value']\n",
        "\n",
        "\n",
        "sns.set(rc={'figure.figsize':(17,12)})\n",
        "fig, axes = plt.subplots(5, 7)    \n",
        "  \n",
        "for k in range(0,7):       \n",
        " \n",
        "    ################################################################################################################\n",
        "    # INICIA LA SECCIÓN PARA AGREGAR CÓDIGO.\n",
        "    # Ejercicio 2\n",
        "    # Solamente deberás escribir tu código en las partes que dicen \"None\", sustituyendo este por tu código.\n",
        "    # Deberás utilizar el dataframe \"misdatos\" con la lista que llamamos \"variables_a_transformar\" para \n",
        "    # seleccionar los valores de cada una de las 7 variables que se irán transformando y graficando.\n",
        "\n",
        "\n",
        "    # Datos originales ---------------------------------------------------------\n",
        "    plt.subplot(5,7,k+1) \n",
        "\n",
        "    Transf0 = plt.hist((5,7,k+1), bins=20)         #  En esta línea se debe asignar a Transf0 los valores de cada variable \"k\" sin transformar.\n",
        "    plt.show()                    #  En este línea agrega el comando para obtener el histograma de Transf0 con 20 barras (bins).\n",
        "\n",
        "\n",
        "    plt.xlabel(variables_a_transformar[k])\n",
        "    if k==0:\n",
        "      plt.ylabel('Originales')\n",
        "    \n",
        "\n",
        "\n",
        "    # Datos transformados con raíz cuadrada ------------------------------------\n",
        "    plt.subplot(5,7,k+8)    \n",
        "\n",
        "    Transf1 = None #  En esta línea se debe aplicar la raíz cuadrada a los valores de cada variable \"k\" sin transformar.\n",
        "    None                    #  En este línea agrega el comando para obtener el histograma de Transf1 con 20 barras (bins).\n",
        "\n",
        "\n",
        "    plt.xlabel(variables_a_transformar[k])\n",
        "    if k==0:\n",
        "      plt.ylabel('Raíz Cuadrada')\n",
        "    \n",
        "\n",
        "    \n",
        "    # Datos transformados con logaritmo natural --------------------------------\n",
        "    plt.subplot(5,7,k+15)     \n",
        "\n",
        "    Transf2 = np.log((5,7,k+15))          #  En esta línea se debe aplicar el logaritmo natural a los valores de cada variable \"k\" sin transformar.\n",
        "    plt.show()                    #  En este línea agrega el comando para obtener el histograma de Transf2 con 20 barras (bins).\n",
        "\n",
        "\n",
        "    plt.xlabel(variables_a_transformar[k])\n",
        "    if k==0:\n",
        "      plt.ylabel('Logaritmo')\n",
        "    \n",
        "\n",
        "\n",
        "    # Datos transformados con la potencia de 2 ---------------------------------\n",
        "    plt.subplot(5,7,k+22)\n",
        "    \n",
        "    Transf3 =  np.square((5,7,k+22), 2) #  En esta línea debes elevar al cuadrado los valores de cada variable \"k\" sin transformar.\n",
        "    \n",
        "    plt.show()                  #  En este línea agrega el comando para obtener el histograma de Transf3 con 20 barras (bins).\n",
        "\n",
        "\n",
        "    plt.xlabel(variables_a_transformar[k])\n",
        "    if k==0:\n",
        "      plt.ylabel('Potencia 2')\n",
        "    \n",
        "\n",
        "    # Datos transformados con Box-Cox ------------------------------------------\n",
        "    plt.subplot(5,7,k+29)\n",
        "\n",
        "    Transf4 = power_transform(np.array(misdatos[variables_a_transformar[k]]).reshape(-1, 1), method=\"box-cox\")     #  En esta línea se debe aplicar la transformación Box-Cox a los valores de cada variable \"k\" sin transformar.\n",
        "    plt.show('')               #  En este línea agrega el comando para obtener el histograma de Transf4 con 20 barras (bins).\n",
        "\n",
        "\n",
        "    plt.xlabel(variables_a_transformar[k])\n",
        "    if k==0:\n",
        "      plt.ylabel('Box-Cox')\n",
        "\n",
        "    # TERMINA LA SECCIÓN PARA AGREGAR CÓDIGO.\n",
        "    ################################################################################################################\n",
        "\n",
        "    \n",
        "\n",
        "plt.show()"
      ],
      "metadata": {
        "id": "nBj56LBaJEzL",
        "colab": {
          "base_uri": "https://localhost:8080/",
          "height": 1000
        },
        "outputId": "5da20388-feb0-4680-8b12-f6dd721e7e3d"
      },
      "execution_count": 6,
      "outputs": [
        {
          "output_type": "display_data",
          "data": {
            "text/plain": [
              "<Figure size 1224x864 with 35 Axes>"
            ],
            "image/png": "[encoded data removed]"
          },
          "metadata": {}
        },
        {
          "output_type": "display_data",
          "data": {
            "text/plain": [
              "<Figure size 1224x864 with 2 Axes>"
            ],
            "image/png": "[encoded data removed]"
          },
          "metadata": {}
        },
        {
          "output_type": "error",
          "ename": "TypeError",
          "evalue": "ignored",
          "traceback": [
            "\u001b[0;31m---------------------------------------------------------------------------\u001b[0m",
            "\u001b[0;31mTypeError\u001b[0m                                 Traceback (most recent call last)",
            "\u001b[0;32m<ipython-input-6-816cc225c5f2>\u001b[0m in \u001b[0;36m<module>\u001b[0;34m\u001b[0m\n\u001b[1;32m     58\u001b[0m     \u001b[0mplt\u001b[0m\u001b[0;34m.\u001b[0m\u001b[0msubplot\u001b[0m\u001b[0;34m(\u001b[0m\u001b[0;36m5\u001b[0m\u001b[0;34m,\u001b[0m\u001b[0;36m7\u001b[0m\u001b[0;34m,\u001b[0m\u001b[0mk\u001b[0m\u001b[0;34m+\u001b[0m\u001b[0;36m22\u001b[0m\u001b[0;34m)\u001b[0m\u001b[0;34m\u001b[0m\u001b[0;34m\u001b[0m\u001b[0m\n\u001b[1;32m     59\u001b[0m \u001b[0;34m\u001b[0m\u001b[0m\n\u001b[0;32m---> 60\u001b[0;31m     \u001b[0mTransf3\u001b[0m \u001b[0;34m=\u001b[0m  \u001b[0mnp\u001b[0m\u001b[0;34m.\u001b[0m\u001b[0msquare\u001b[0m\u001b[0;34m(\u001b[0m\u001b[0;34m(\u001b[0m\u001b[0;36m5\u001b[0m\u001b[0;34m,\u001b[0m\u001b[0;36m7\u001b[0m\u001b[0;34m,\u001b[0m\u001b[0mk\u001b[0m\u001b[0;34m+\u001b[0m\u001b[0;36m22\u001b[0m\u001b[0;34m)\u001b[0m\u001b[0;34m,\u001b[0m \u001b[0;36m2\u001b[0m\u001b[0;34m)\u001b[0m \u001b[0;31m#  En esta línea debes elevar al cuadrado los valores de cada variable \"k\" sin transformar.\u001b[0m\u001b[0;34m\u001b[0m\u001b[0;34m\u001b[0m\u001b[0m\n\u001b[0m\u001b[1;32m     61\u001b[0m \u001b[0;34m\u001b[0m\u001b[0m\n\u001b[1;32m     62\u001b[0m     \u001b[0mplt\u001b[0m\u001b[0;34m.\u001b[0m\u001b[0mshow\u001b[0m\u001b[0;34m(\u001b[0m\u001b[0;34m)\u001b[0m                  \u001b[0;31m#  En este línea agrega el comando para obtener el histograma de Transf3 con 20 barras (bins).\u001b[0m\u001b[0;34m\u001b[0m\u001b[0;34m\u001b[0m\u001b[0m\n",
            "\u001b[0;31mTypeError\u001b[0m: return arrays must be of ArrayType"
          ]
        },
        {
          "output_type": "display_data",
          "data": {
            "text/plain": [
              "<Figure size 1224x864 with 1 Axes>"
            ],
            "image/png": "[encoded data removed]"
          },
          "metadata": {}
        }
      ]
    },
    {
      "cell_type": "markdown",
      "source": [
        "#**Ejercicio - 3 - Métricas de desempeño: $RMSE$, $MAE$ y $MAPE$**\n"
      ],
      "metadata": {
        "id": "MWnC5yszs7VR"
      }
    },
    {
      "cell_type": "markdown",
      "source": [
        "\n",
        "INSTRUCCIONES:\n",
        "\n",
        "En el archivo semana_02_IAyAA_RLM_teoria.pdf que se encuentra en Canvas se muestran las fórmulas que definen a las métricas $RMSE$, $MAE$ y $MAPE$.\n",
        "\n",
        "Investiga el significado de cada una de ellas.\n",
        "\n",
        "Cada una de ellas se puede calcular mediante los valores observados reales $y$, los valores de predicción $\\hat{y}$ y el total de registros $n$.\n",
        "\n",
        "En este ejercicio deberás definir cada una de estas métricas mediante tres funciones que llamarás mi_RMSE, mi_MAE y mi_MAPE. \n",
        "\n",
        "Cada una de las tres funciones que definas deberán tener dos argumentos, a saber, los valores observados reales $y$ y los valores de predicción $\\hat{y}$.\n",
        "\n",
        "Como valor de retorno deberá ser el valor numérico real dado por la fórmula que lo define.\n",
        "\n",
        "Solamente podrás usar las funciones de NumPy del promedio (mean), cuadrado (square) y valor absoluto (abs), además de las operaciones aritméticas básicas.\n",
        "\n",
        "Para la definición de cada una de ellas se esperarían cuando mucho 5 líneas de código en total, pero pueden ser menos. Una cantidad mayor a esta será penalizada.\n"
      ],
      "metadata": {
        "id": "NFtUgAfXMyVf"
      }
    },
    {
      "cell_type": "code",
      "source": [
        "#########################################################################\n",
        "# INICIA LA SECCIÓN PARA AGREGAR CÓDIGO.\n",
        "# Ejercicio 3\n",
        "\n",
        "# Incluye aquí las líneas de código que definan a la función: mi_RMSE:\n",
        "\n",
        "def rmse(y, y^):\n",
        "    return np.sqrt(((predictions - targets) ** 2).mean())\n",
        "\n",
        "rmse_val = rmse(np.array(y), np.array(y))\n",
        "print(\"rms error is: \" + str(rmse_val))\n",
        "\n",
        "\n",
        "\n",
        "\n",
        "# Incluye aquí las líneas de código que definan a la función: mi_MAE:\n",
        "\n",
        "def mae(y_true, predictions):\n",
        "    y_true, predictions = np.array(y_true), np.array(predictions)\n",
        "    return np.mean(np.abs(y_true - predictions))\n",
        "\n",
        "true = [x,x,]\n",
        "predicted = [x,x\n",
        "\n",
        "print(mae(true, predicted)) \n",
        "\n",
        "\n",
        "\n",
        "\n",
        "# Incluye aquí las líneas de código que definan a la función: mi_MAPE:\n",
        "\n",
        "\n",
        "linear_model = LinearRegression().fit(X_train , Y_train)\n",
        "LR_Test_predict = linear_model.predict(X_test)\n",
        "\n",
        "def MAPE(Y_actual,Y_Predicted):\n",
        "    mape = np.mean(np.abs((Y_actual - Y_Predicted)/Y_actual))*100\n",
        "    return mape\n",
        "\n",
        "\n",
        "\n",
        "\n",
        "# TERMINA LA SECCIÓN PARA AGREGAR CÓDIGO.\n",
        "#########################################################################"
      ],
      "metadata": {
        "id": "cBNw_378l2Mk"
      },
      "execution_count": null,
      "outputs": []
    },
    {
      "cell_type": "code",
      "source": [
        "Xtrain = misdatos.drop('median_house_value', axis='columns')                                                                     \n",
        "ytrain = misdatos['median_house_value']  \n",
        "\n",
        "num_prepro_pipeline = Pipeline(steps = [('imputar', SimpleImputer(strategy='median')),  \n",
        "                                        ('scalar', MinMaxScaler(feature_range=(1, 2))),\n",
        "                                        ('sqrt', FunctionTransformer(np.sqrt))\n",
        "                                        ])     \n",
        "\n",
        "numerical_features = ['total_rooms','total_bedrooms','population','households','median_income']\n",
        "\n",
        "columnasTransformer = ColumnTransformer(transformers = [('numerical', num_prepro_pipeline, numerical_features)],\n",
        "                                        remainder='passthrough')\n",
        "\n",
        "modelo_LR = LinearRegression()\n",
        "\n",
        "scores_RMSEVal = []\n",
        "scores_MAEVal = []\n",
        "scores_MAPEVal = []\n",
        "\n",
        "kf = KFold(n_splits= 10, shuffle=True)   \n",
        "\n",
        "for train_index, val_index in kf.split(Xtrain):\n",
        "\n",
        "  X_train, X_val = Xtrain.loc[train_index], Xtrain.loc[val_index]\n",
        "  y_train, y_val = ytrain[train_index], ytrain[val_index]\n",
        "\n",
        "  XtrainFit = columnasTransformer.fit(X_train)   \n",
        "  XtrainTransf = XtrainFit.transform(X_train)    \n",
        "\n",
        "  modelo_LR = modelo_LR.fit(XtrainTransf, y_train) \n",
        "\n",
        "  XvalTransf = XtrainFit.transform(X_val) \n",
        "  yhatVal = modelo_LR.predict(XvalTransf)  \n",
        "\n",
        "  scores_RMSEVal.append(mi_RMSE(y_val, yhatVal))\n",
        "  scores_MAEVal.append(mi_MAE(y_val, yhatVal))\n",
        "  scores_MAPEVal.append(mi_MAPE(y_val, yhatVal))\n",
        "\n",
        "\n",
        "# Desplegar información:\n",
        "results = [scores_RMSEVal, scores_MAEVal, scores_MAPEVal]\n",
        "names = ['RMSEval','MAEval','MAPEval']\n",
        "\n",
        "print(\"\\t  %s\\t\\t%s   \\t\\t%s\" % (names[0],names[1],names[2]))\n",
        "for i,z in enumerate(zip(scores_RMSEVal, scores_MAEVal, scores_MAPEVal)):\n",
        "  print(\"fold[%d]:  %.1f \\t\\t%.1f  \\t\\t%.1f%%\" % (i+1,z[0],z[1],z[2]))\n",
        "print(\"mean(std) %.1f(%.1f)  \\t%.1f(%.1f)   \\t%.1f%% (%.1f)\" % (np.mean(scores_RMSEVal), np.std(scores_RMSEVal),\n",
        "                                                                np.mean(scores_MAEVal), np.std(scores_MAEVal),\n",
        "                                                                np.mean(scores_MAPEVal), np.std(scores_MAPEVal)))"
      ],
      "metadata": {
        "id": "oaUZ-1e3FjZi"
      },
      "execution_count": null,
      "outputs": []
    },
    {
      "cell_type": "markdown",
      "source": [
        "**\\<\\<Fin de la Actividad_1_Semana_2>>**"
      ],
      "metadata": {
        "id": "WZXu_qw4antB"
      }
    }
  ]
}