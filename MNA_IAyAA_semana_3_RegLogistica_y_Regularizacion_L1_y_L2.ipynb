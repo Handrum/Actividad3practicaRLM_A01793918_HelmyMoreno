{
  "nbformat": 4,
  "nbformat_minor": 0,
  "metadata": {
    "colab": {
      "provenance": [],
      "collapsed_sections": [],
      "include_colab_link": true
    },
    "kernelspec": {
      "name": "python3",
      "display_name": "Python 3"
    },
    "language_info": {
      "name": "python"
    }
  },
  "cells": [
    {
      "cell_type": "markdown",
      "metadata": {
        "id": "view-in-github",
        "colab_type": "text"
      },
      "source": [
        "<a href=\"https://colab.research.google.com/github/Handrum/Actividad3practicaRLM_A01793918_HelmyMoreno/blob/main/MNA_IAyAA_semana_3_RegLogistica_y_Regularizacion_L1_y_L2.ipynb\" target=\"_parent\"><img src=\"https://colab.research.google.com/assets/colab-badge.svg\" alt=\"Open In Colab\"/></a>"
      ]
    },
    {
      "cell_type": "markdown",
      "source": [
        "#**Maestría en Inteligencia Artificial Aplicada**\n",
        "##**Curso: Inteligencia Artificial y Aprendizaje Automático**\n",
        "###Tecnológico de Monterrey\n",
        "###Prof Luis Eduardo Falcón Morales\n",
        "\n",
        "### **Semana 3**\n",
        "####**Regresión Logística y métodos de Regularización $L_1$ (lasso), $L_2$ (ridge) y el conjunto $L_{12}$ (elastic net).**"
      ],
      "metadata": {
        "id": "DrfZNe792WGZ"
      }
    },
    {
      "cell_type": "markdown",
      "source": [
        "#**Parte - 1: Entendiendo los métodos de Regularización con las métricas $L_1$ y $L_2$.**"
      ],
      "metadata": {
        "id": "6k-IEniS2oJt"
      }
    },
    {
      "cell_type": "markdown",
      "source": [
        "Hay que recordar que en general los métodos de aprendizaje automático supervisado tratan de modelar y explicar el comportamiento de una variable de respuesta $y$, a partir de un conjunto de factores de entrada $X$, dado un conjunto de parejas ordenadas $(\\vec{x}_k, y_k), k=1,2,...,m$. \n",
        "\n",
        "El buen desempeño del modelo se medirá mediante una función de costo que nos permita minimizar el error hasta un mínimo que se considere aceptable por parte del analista. La función de costo puede ser muy variada y los investigadores siguen proponiendo algunas nuevas, pero en particular veamos el caso del método de regresión lineal en detalle para poder ilustrar el problema que nos incumbe en esta semana, el de la **regularización**. Supongamos que el problema es de regresión lineal con dos factores de entrada $x_1$ y $x_2$ y que después del proceso de entrenamiento obtuvimos el modelo $\\hat{y} = \\omega_0 + \\omega_1x_1 + \\omega_2x_2$. A los parámetros $\\omega_j$ se les conoce también como los **pesos** del modelo. Una manera de medir el error de predicción $\\hat{y}_k$ es medir la diferencia o residuo con el valor real observado $y_k$ a través del error cuadrático medio $MSE$ que se define como sigue:\n",
        "\n",
        "$MSE =\\frac{1}{m}\\sum_{k=1}^{m}(\\hat{y}_k-y_k)^2= \\frac{1}{m}\\sum_{k=1}^{m}(\\omega_0+\\omega_1x_{1,k}+\\omega_2x_{2,k}-y_k)^2$\n",
        "\n",
        "donde $x_{j,k}$ indica el factor $x_j$ evaluado en el $k$-ésimo registro. Viendo a $MSE$ como una función de los pesos del modelo, se le suele tomar como la función de costo que se debe minimizar en el conocido método de mínimos cuadrados para el modelo de regresión lineal múltiple. \n",
        "\n",
        "En el caso idealizado de que todas las predicciones del modelo entrenado sean exactamente iguales a las reales observadas, $MSE=0$. Sin embargo, en los problemas reales y por el ruido inherente existente en cada problema, dicho error raramente es identicamente igual a cero. \n",
        "\n",
        "Por otro lado, sabemos que cuando el modelo empieza a sobreentrenarse durante la etapa de entrenamiento, una de las consecuencias es que los coeficientes $\\omega_0$, $\\omega_1$, $\\omega_2$ empiezan a crecer en magnitud. Es por ello que \"regularizar\" el modelo, significa restringirlo para evitar que dichos coeficientes aumenten de manera indiscriminada. Y las dos maneras principales de restringir el crecimiento sin control de dichos pesos, es decir, de regularizar el modelo es mediante las llamadas métricas $L_1$ y $L_2$, como sigue:\n",
        "\n",
        "\n",
        "**Función de costo con métrica de regularización $L_1$. Conocida también como lasso (least absolute shrinkage and selection operator, por sus iniciales en inglés):**\n",
        "\n",
        "$J_{L_1}(\\omega) = MSE + α\\sum_{j=1}^{m}|\\omega_j|$\n",
        "\n",
        "**Función de costo con métrica de regularización $L_2$. También conocida como de Tíjonov (en inglés se le conoce como ridge):**\n",
        "\n",
        "$J_{L_2}(\\omega) = MSE + α\\sum_{j=1}^{m}\\omega_j^2$\n",
        "\n",
        "\n",
        "**Se pueden combinar ambas en la llamada regularización \"elastic net\":**\n",
        "\n",
        "\n",
        "$J_{L_{12}}(\\omega) = MSE + α_1\\sum_{j=1}^{m}|\\omega_j| + α_2\\sum_{j=1}^{m}\\omega_j^2$\n",
        "\n",
        "En español es usual referirse a estos métodos de regularización por el uso de la métrica $L1$, $L_2$ y $L_{12}$ correspondiente, o bien, haciendo referencia a ella por sus nombres en inglés, lasso, ridge y elastic-net, respectivamente.\n",
        "\n",
        "Los parámetros de regularización $\\alpha$, $\\alpha_1$ y $\\alpha_2$ deben ser mayores a cero. El caso igual a cero reduce la función de costo nuevamente a $MSE$.\n",
        "\n",
        "Es importante hacer las siguientes observaciones: \n",
        "\n",
        "*   En cualquiera de los métodos de regularización el parámetro $\\omega_0$ no interviene. Es decir, en el caso del método de regresión lineal, solo se regularizan los coeficientes de cada factor de entrada.\n",
        "\n",
        "*   El sumar los pesos $\\omega_j, j=1,...,m$ a la función de costo en la forma indicada en cada caso, permitirá que el proceso de entrenamiento \"impida\" el crecimiento de los mismos, ya que se está bajo un método de minimización de los errores. \n",
        "\n",
        "*   De manera general, con la métrica $L_2$ se castiga a todos los pesos del modelo de manera uniforme y mientras mayor sea el valor de alguno de los coeficientes, mayor es la penalización para todos.\n",
        "\n",
        "*   De manera general, con la métrica $L_1$, lo factores que el modelo considera que no aportan información para explicar el comportamiento de la variable de salida, los nulifica. Igualmente penaliza a todos los coeficientes(aunque no de manera uniforme), el que alguno de ellos incremente demasiado su valor.\n",
        "\n",
        "*   Aunque las tres técnicas de regularización tienen el mismo objetivo, el impedir que los pesos crezcan demasiado, cada uno tiene sus propias particularidades como lo veremos en un ejemplo sencillo a continuación.\n",
        "\n"
      ],
      "metadata": {
        "id": "Vt0vuFBK4OTt"
      }
    },
    {
      "cell_type": "markdown",
      "source": [
        "####**NOTA-Opcional**: Para saber más del tema, puedes consultar la sección llamada \"Regularized Linear Models\" del capítulo 4 del libro de Aurélien Géron.\n"
      ],
      "metadata": {
        "id": "TKbxj1QSzfYH"
      }
    },
    {
      "cell_type": "code",
      "execution_count": 1,
      "metadata": {
        "id": "xWB_pwwgblWM"
      },
      "outputs": [],
      "source": [
        "import numpy as np\n",
        "import matplotlib.pyplot as plt\n",
        "import random\n",
        "import seaborn as sns\n",
        "import pandas as pd\n",
        "\n",
        "from sklearn.linear_model import LinearRegression, Lasso, Ridge, ElasticNet"
      ]
    },
    {
      "cell_type": "markdown",
      "source": [
        "Definiremos una matriz de entrada X con 3 factores, donde la segunda y tercera son el cuadrado y cubo de la primera. \n",
        "\n",
        "La variable de salida será una función cúbica que las relaciona.\n",
        "\n",
        "Recuerda consultar la documentación de cada función utilizada. Por ejemplo, para las primeras líneas de código:\n",
        "\n",
        "https://numpy.org/doc/stable/reference/generated/numpy.arange.html\n",
        "\n",
        "https://numpy.org/doc/stable/reference/generated/numpy.concatenate.html\n",
        "\n",
        "https://numpy.org/doc/stable/reference/generated/numpy.vstack.html \n"
      ],
      "metadata": {
        "id": "2D6mXnrA5_x5"
      }
    },
    {
      "cell_type": "code",
      "source": [
        "# Definimos nuestras 3 variables en el intervalo -1.3 a 3.5 como sigue:\n",
        "\n",
        "x1 = np.arange(-1.3, 3.5, .125)     # factor/variable lineal\n",
        "x2 = x1*x1                          # factor cuadrático\n",
        "x3 = x1*x1*x1                       # factor cúbico"
      ],
      "metadata": {
        "id": "8U41vHS7cR3G"
      },
      "execution_count": 2,
      "outputs": []
    },
    {
      "cell_type": "code",
      "source": [
        "# Y definimos nuestra matriz de datos de entrada X como un DataFrame de Pandas:\n",
        "# La matriz X estará formada por las columnas 1, 2 y 3 con los factores lineal,\n",
        "# cuadrático y cúbico, respectivamente:\n",
        "\n",
        "w = np.concatenate((np.vstack(x1),np.vstack(x2),np.vstack(x3)), axis=1)\n",
        "w.shape\n",
        "\n",
        "X = pd.DataFrame(w, columns=['x1','x2','x3'])\n",
        "X.head()"
      ],
      "metadata": {
        "colab": {
          "base_uri": "https://localhost:8080/",
          "height": 0
        },
        "id": "AgwS8Gfdc4Vm",
        "outputId": "a823cec5-92c9-4121-d9b5-b14c47798d16"
      },
      "execution_count": 3,
      "outputs": [
        {
          "output_type": "execute_result",
          "data": {
            "text/plain": [
              "      x1        x2        x3\n",
              "0 -1.300  1.690000 -2.197000\n",
              "1 -1.175  1.380625 -1.622234\n",
              "2 -1.050  1.102500 -1.157625\n",
              "3 -0.925  0.855625 -0.791453\n",
              "4 -0.800  0.640000 -0.512000"
            ],
            "text/html": [
              "\n",
              "  <div id=\"df-8ede1482-88c1-4df9-a9a1-6ea854bd5d57\">\n",
              "    <div class=\"colab-df-container\">\n",
              "      <div>\n",
              "<style scoped>\n",
              "    .dataframe tbody tr th:only-of-type {\n",
              "        vertical-align: middle;\n",
              "    }\n",
              "\n",
              "    .dataframe tbody tr th {\n",
              "        vertical-align: top;\n",
              "    }\n",
              "\n",
              "    .dataframe thead th {\n",
              "        text-align: right;\n",
              "    }\n",
              "</style>\n",
              "<table border=\"1\" class=\"dataframe\">\n",
              "  <thead>\n",
              "    <tr style=\"text-align: right;\">\n",
              "      <th></th>\n",
              "      <th>x1</th>\n",
              "      <th>x2</th>\n",
              "      <th>x3</th>\n",
              "    </tr>\n",
              "  </thead>\n",
              "  <tbody>\n",
              "    <tr>\n",
              "      <th>0</th>\n",
              "      <td>-1.300</td>\n",
              "      <td>1.690000</td>\n",
              "      <td>-2.197000</td>\n",
              "    </tr>\n",
              "    <tr>\n",
              "      <th>1</th>\n",
              "      <td>-1.175</td>\n",
              "      <td>1.380625</td>\n",
              "      <td>-1.622234</td>\n",
              "    </tr>\n",
              "    <tr>\n",
              "      <th>2</th>\n",
              "      <td>-1.050</td>\n",
              "      <td>1.102500</td>\n",
              "      <td>-1.157625</td>\n",
              "    </tr>\n",
              "    <tr>\n",
              "      <th>3</th>\n",
              "      <td>-0.925</td>\n",
              "      <td>0.855625</td>\n",
              "      <td>-0.791453</td>\n",
              "    </tr>\n",
              "    <tr>\n",
              "      <th>4</th>\n",
              "      <td>-0.800</td>\n",
              "      <td>0.640000</td>\n",
              "      <td>-0.512000</td>\n",
              "    </tr>\n",
              "  </tbody>\n",
              "</table>\n",
              "</div>\n",
              "      <button class=\"colab-df-convert\" onclick=\"convertToInteractive('df-8ede1482-88c1-4df9-a9a1-6ea854bd5d57')\"\n",
              "              title=\"Convert this dataframe to an interactive table.\"\n",
              "              style=\"display:none;\">\n",
              "        \n",
              "  <svg xmlns=\"http://www.w3.org/2000/svg\" height=\"24px\"viewBox=\"0 0 24 24\"\n",
              "       width=\"24px\">\n",
              "    <path d=\"M0 0h24v24H0V0z\" fill=\"none\"/>\n",
              "    <path d=\"M18.56 5.44l.94 2.06.94-2.06 2.06-.94-2.06-.94-.94-2.06-.94 2.06-2.06.94zm-11 1L8.5 8.5l.94-2.06 2.06-.94-2.06-.94L8.5 2.5l-.94 2.06-2.06.94zm10 10l.94 2.06.94-2.06 2.06-.94-2.06-.94-.94-2.06-.94 2.06-2.06.94z\"/><path d=\"M17.41 7.96l-1.37-1.37c-.4-.4-.92-.59-1.43-.59-.52 0-1.04.2-1.43.59L10.3 9.45l-7.72 7.72c-.78.78-.78 2.05 0 2.83L4 21.41c.39.39.9.59 1.41.59.51 0 1.02-.2 1.41-.59l7.78-7.78 2.81-2.81c.8-.78.8-2.07 0-2.86zM5.41 20L4 18.59l7.72-7.72 1.47 1.35L5.41 20z\"/>\n",
              "  </svg>\n",
              "      </button>\n",
              "      \n",
              "  <style>\n",
              "    .colab-df-container {\n",
              "      display:flex;\n",
              "      flex-wrap:wrap;\n",
              "      gap: 12px;\n",
              "    }\n",
              "\n",
              "    .colab-df-convert {\n",
              "      background-color: #E8F0FE;\n",
              "      border: none;\n",
              "      border-radius: 50%;\n",
              "      cursor: pointer;\n",
              "      display: none;\n",
              "      fill: #1967D2;\n",
              "      height: 32px;\n",
              "      padding: 0 0 0 0;\n",
              "      width: 32px;\n",
              "    }\n",
              "\n",
              "    .colab-df-convert:hover {\n",
              "      background-color: #E2EBFA;\n",
              "      box-shadow: 0px 1px 2px rgba(60, 64, 67, 0.3), 0px 1px 3px 1px rgba(60, 64, 67, 0.15);\n",
              "      fill: #174EA6;\n",
              "    }\n",
              "\n",
              "    [theme=dark] .colab-df-convert {\n",
              "      background-color: #3B4455;\n",
              "      fill: #D2E3FC;\n",
              "    }\n",
              "\n",
              "    [theme=dark] .colab-df-convert:hover {\n",
              "      background-color: #434B5C;\n",
              "      box-shadow: 0px 1px 3px 1px rgba(0, 0, 0, 0.15);\n",
              "      filter: drop-shadow(0px 1px 2px rgba(0, 0, 0, 0.3));\n",
              "      fill: #FFFFFF;\n",
              "    }\n",
              "  </style>\n",
              "\n",
              "      <script>\n",
              "        const buttonEl =\n",
              "          document.querySelector('#df-8ede1482-88c1-4df9-a9a1-6ea854bd5d57 button.colab-df-convert');\n",
              "        buttonEl.style.display =\n",
              "          google.colab.kernel.accessAllowed ? 'block' : 'none';\n",
              "\n",
              "        async function convertToInteractive(key) {\n",
              "          const element = document.querySelector('#df-8ede1482-88c1-4df9-a9a1-6ea854bd5d57');\n",
              "          const dataTable =\n",
              "            await google.colab.kernel.invokeFunction('convertToInteractive',\n",
              "                                                     [key], {});\n",
              "          if (!dataTable) return;\n",
              "\n",
              "          const docLinkHtml = 'Like what you see? Visit the ' +\n",
              "            '<a target=\"_blank\" href=https://colab.research.google.com/notebooks/data_table.ipynb>data table notebook</a>'\n",
              "            + ' to learn more about interactive tables.';\n",
              "          element.innerHTML = '';\n",
              "          dataTable['output_type'] = 'display_data';\n",
              "          await google.colab.output.renderOutput(dataTable, element);\n",
              "          const docLink = document.createElement('div');\n",
              "          docLink.innerHTML = docLinkHtml;\n",
              "          element.appendChild(docLink);\n",
              "        }\n",
              "      </script>\n",
              "    </div>\n",
              "  </div>\n",
              "  "
            ]
          },
          "metadata": {},
          "execution_count": 3
        }
      ]
    },
    {
      "cell_type": "code",
      "source": [
        "# Definimos los siguientes pesos de manera arbitraria y que establece una relación\n",
        "# polinomial cúbica en nuestra variable de salida Y:\n",
        "\n",
        "w0 = 190\n",
        "w1= -85/3\n",
        "w2=-165\n",
        "w3=160/3\n",
        "\n",
        "print('Pesos (coeficientes) de una función polinomial de grado cúbico como función de salida:')\n",
        "print('lineal: %.2f, cuadrático: %.2f cubo: %.2f' % (w1, w2, w3))"
      ],
      "metadata": {
        "colab": {
          "base_uri": "https://localhost:8080/"
        },
        "id": "bA86cWYgn69N",
        "outputId": "9b0e1079-519a-4a9b-e22b-5347e04544c7"
      },
      "execution_count": 4,
      "outputs": [
        {
          "output_type": "stream",
          "name": "stdout",
          "text": [
            "Pesos (coeficientes) de una función polinomial de grado cúbico como función de salida:\n",
            "lineal: -28.33, cuadrático: -165.00 cubo: 53.33\n"
          ]
        }
      ]
    },
    {
      "cell_type": "markdown",
      "source": [
        "En particular por el momento no nos interesa el valor de $\\omega_0$, que equivale el coeficiente constante de la función polinomial. \n",
        "\n",
        "Lo que deseamos es ver el comportamiento de los pesos que se estarán regularizando, que en este caso serán $\\omega_1, \\omega_2$ y $\\omega_3$."
      ],
      "metadata": {
        "id": "4PofWJQlBMip"
      }
    },
    {
      "cell_type": "code",
      "source": [
        "# Definimos nuestra variable de salida con algo de ruido para que nuestro problema\n",
        "# no se reduzca simplemente a un problema de interpolación de puntos:\n",
        "\n",
        "random.seed(1)\n",
        "yreal = []\n",
        "for x in x1:\n",
        "  noise=200*(random.random() -0.5)\n",
        "  cc = w3*np.power(x,3) + w2*np.power(x,2) + w1*x + w0 + noise\n",
        "  yreal.append(cc)\n",
        "  \n",
        "  \n",
        "plt.scatter(x1,yreal)\n",
        "plt.show()"
      ],
      "metadata": {
        "colab": {
          "base_uri": "https://localhost:8080/",
          "height": 0
        },
        "id": "sHKE9NXofki0",
        "outputId": "4ed28bc6-73fe-4525-e184-8ef85cee04af"
      },
      "execution_count": 5,
      "outputs": [
        {
          "output_type": "display_data",
          "data": {
            "text/plain": [
              "<Figure size 432x288 with 1 Axes>"
            ],
            "image/png": "[encoded data removed]"
          },
          "metadata": {
            "needs_background": "light"
          }
        }
      ]
    },
    {
      "cell_type": "markdown",
      "source": [
        "Ya tenemos nuestros datos de salida \"yreal\" a partir de los cuales generar nuestro modelo."
      ],
      "metadata": {
        "id": "d55ntqRypuaG"
      }
    },
    {
      "cell_type": "markdown",
      "source": [
        "Recuerda revisar la documentación de cada uno de los modelos que aplicaremos:\n",
        "\n",
        "https://scikit-learn.org/stable/modules/generated/sklearn.linear_model.LinearRegression.html\n",
        "\n",
        "https://scikit-learn.org/stable/modules/generated/sklearn.linear_model.Lasso.html\n",
        "\n",
        "https://scikit-learn.org/stable/modules/generated/sklearn.linear_model.Ridge.html\n",
        "\n",
        "https://scikit-learn.org/stable/modules/generated/sklearn.linear_model.ElasticNet.html"
      ],
      "metadata": {
        "id": "6T-OPQjU_5qS"
      }
    },
    {
      "cell_type": "code",
      "source": [
        "# Definamos 4 modelos: el de regresión lineal múltiple (RLM); de RLM con \n",
        "# regularización L1 (lasso); de RLM con regularización L2 (ridge) y\n",
        "# RLM con regularización conjunta L1 y L2 (elastic-net):  \n",
        "\n",
        "modelos = []\n",
        "modelos.append(('LR', LinearRegression()))\n",
        "modelos.append(('LASSO', Lasso(alpha=50)))  \n",
        "modelos.append(('RIDGE', Ridge(alpha=50)))  \n",
        "modelos.append(('EN', ElasticNet(alpha=1, l1_ratio=.5)))\n",
        "\n",
        "\n",
        "yhat0 = []   # predicciones del modelo RLM\n",
        "yhat1 = []   # predicciones del RLM con regularización L1\n",
        "yhat2 = []   # predicciones del RLM con regularización L2\n",
        "yhat12 = []  # predicciones del RLM con regularización L1 y L2\n",
        "\n",
        "\n",
        "for name, model in modelos:\n",
        "  # entrenamos el modelo seleccionado y obtenemos sus predicciones:\n",
        "  print(\"%s:\" % name)\n",
        "  mm = model.fit(X, np.ravel(yreal))\n",
        "  yhat = mm.predict(X)\n",
        "  \n",
        "  print(mm.intercept_)   # por si deseas conocer w0.\n",
        "  print(mm.coef_)       # despleguemos los pesos obtenidos\n",
        "\n",
        "  if name=='LR':\n",
        "    yhat0.append(yhat)\n",
        "    print('\\n')\n",
        "  elif name=='LASSO':\n",
        "    yhat1.append(yhat)\n",
        "    print('\\n')\n",
        "  elif name=='RIDGE':\n",
        "    yhat2.append(yhat)\n",
        "    print('\\n')\n",
        "  else:\n",
        "    yhat12.append(yhat)"
      ],
      "metadata": {
        "id": "SXMyy09Ykjnn",
        "colab": {
          "base_uri": "https://localhost:8080/"
        },
        "outputId": "2bd8027b-357c-40d4-ebb1-764c7fcf4bde"
      },
      "execution_count": 6,
      "outputs": [
        {
          "output_type": "stream",
          "name": "stdout",
          "text": [
            "LR:\n",
            "194.91638384474888\n",
            "[ -40.14979812 -179.70350006   58.72754395]\n",
            "\n",
            "\n",
            "LASSO:\n",
            "65.75625534618\n",
            "[ -0.         -42.3261639   13.52816173]\n",
            "\n",
            "\n",
            "RIDGE:\n",
            "70.99324541402667\n",
            "[-20.98378015 -43.2567818   16.18227013]\n",
            "\n",
            "\n",
            "EN:\n",
            "105.48167999947967\n",
            "[-32.10655264 -79.34645456  28.06434904]\n"
          ]
        }
      ]
    },
    {
      "cell_type": "markdown",
      "source": [
        "Algunas comentarios que podemos observar de los resultados anteriores:\n",
        "\n",
        "*   Cuando el parámetro alpha en cualquiera de los modelos con regularización es igual o muy cercano a cero, el resultado será muy parecido al de regresión lineal estándar, LR, lo cual se sigue de las definiciones que dimos al inicio de cada función de costo.\n",
        "\n",
        "*   Cuando el valor de alpha crece en cualquiera de los modelos de regularización, los pesos disminuyen (ya que tratan de minimizar la función de costo). \n",
        "\n",
        "*   Cuando alpha aumenta su valor en el caso Lasso, $L_1$, algunos de los pesos empiezan a tender cero. De hecho, si se sigue aumentando el valor de alpha y en cada caso entrenamos de nuevo el modelo, más pesos seguirán tendiendo a cero. Por ejemplo, modifica y observa los resultados de Lasso para los casos de alpha=0.1, 20, 30 y 65. Es decir, podemos decir que en lasso, algunos de los pesos que el modelo no considera muy relevantes, los castiga más haciéndolos tender a cero.\n",
        "\n",
        "*   La característica anterior del caso lasso, hace que se utilice en ocasiones como reducción de dimensionalidad, es decir, para reducir el conjunto de factores de entrada que tratan de explicar el comportamiento de la variable de salida. O bien, para determinar aquellos factores que dan mayor información a las predicciones. En este caso observamos que el último peso que queda en Lasso con alpha=65 es precisamente el cúbico, dicéndonos que el comportamiento primordial de los datos es cúbico, lo cual sabemos que este es el caso, ya que así los generamos.\n",
        "\n",
        "*   La característica del caso ridge, $L_2$, es que a diferencia de lasso, ahora al aumentar el valor de alpha, todos los pesos serán análogamente penalizados, haciéndolos tender todos a cero pero sin anular alguno de ellos de manera rápida antes que los demás. Por ejemplo, asigna los mismos valores de alpha usados en lasso ahora en ridge e inclusive agrega otros como 100 o 1000 y observa que a diferencia de lo que vimos con lasso, en ridge no se hace exactamente cero uno de los pesos antes que los demás.\n",
        "\n",
        "NOTA: Aunque sabemos que en la vida real los datos no se comportan como en este ejercicio, el ejercicio nos ayuda a entender sus comportamientos generales.\n"
      ],
      "metadata": {
        "id": "3gqTkTtLDOOT"
      }
    },
    {
      "cell_type": "markdown",
      "source": [
        "###**Visualicemos algunos de los resultados**"
      ],
      "metadata": {
        "id": "xdFdFM9yrrQf"
      }
    },
    {
      "cell_type": "code",
      "source": [
        "plt.scatter(x1, np.ravel(yreal), marker='^', label='real')  \n",
        "\n",
        "plt.scatter(x1, np.ravel(yhat0), marker='_', label='LR')  \n",
        "plt.scatter(x1, np.ravel(yhat1), marker='o', label='lasso')  \n",
        "plt.scatter(x1, np.ravel(yhat2), marker='d', label='ridge')  \n",
        "plt.scatter(x1, np.ravel(yhat12), marker='*', label='e-net')\n",
        "\n",
        "plt.legend(loc=2)\n",
        "plt.show()"
      ],
      "metadata": {
        "colab": {
          "base_uri": "https://localhost:8080/",
          "height": 0
        },
        "id": "cPnwzMlytwTQ",
        "outputId": "163a5492-a8b2-4f57-b335-3c395f4b334d"
      },
      "execution_count": 7,
      "outputs": [
        {
          "output_type": "display_data",
          "data": {
            "text/plain": [
              "<Figure size 432x288 with 1 Axes>"
            ],
            "image/png": "[encoded data removed]"
          },
          "metadata": {
            "needs_background": "light"
          }
        }
      ]
    },
    {
      "cell_type": "markdown",
      "source": [
        "Del gráfico anterior, del caso con $\\alpha=30$ en lasso y ridge, podemos hacer algunas observaciones generales:\n",
        "\n",
        "*   En general el modelo sin regularización tiende a querer parecerse lo más rápido posible a los datos reales observados. Si existe una gran cantidad de valores extremos (outliers), esto aumentará la varianza de las predicciones generadas con el modelo obtenido.\n",
        "*   El modelo con las predicciones más cercanas a los datos observados reales tiene los coeficientes mayores en magnitud.\n",
        "*   Observamos que las predicciones del modelo lasso siguen siendo bastante análogas a las de ridge y elastic-net, aún cuando uno de sus coeficientes es igual a cero. Como se mencionó previamente, lasso trata de reducir la cantidad de factores de entrada o dimensionalidad, quedándose con las más representativas y sin sacrificar demasiado el desempeño del modelo.\n",
        "*   Los modelos con regularización generan modelos más \"moderados\" que posteriormente permiten obtener mejores predicciones para los valores reales nuevos, sobre todo cuando existe una buena cantidad de valores extremos (outliers). En este ejemplo en particular que no tenemos valores extremos muy marcados, vemos que los métodos con regularización penalizaron demasiado a todos estos modelos de manera negativa, ya que se alejaron demasiado de los valores reales. \n",
        "\n"
      ],
      "metadata": {
        "id": "5VJ9wghar_f5"
      }
    },
    {
      "cell_type": "markdown",
      "source": [
        "#**Parte - 2: Caso aprobación de tarjetas de crédito** "
      ],
      "metadata": {
        "id": "mCfyqfF2yCYN"
      }
    },
    {
      "cell_type": "markdown",
      "source": [
        "La asignación o rechazo a la solicitud de un crédito a un banco o institución financiera es uno de los problemas más estudiados por su complejidad y relevancia. Existe una gran cantidad de artículos de investigación al respecto. Debido a lo delicado de la información que ahí se analiza no es fácil encontrar bases de datos abiertas con las cuales se puedan estar realizando estudios. Sin embargo, en particular el conjunto de datos conocido como \"Australian credit approval\" es una de las pocas en el tema y que podemos encontrar en el repositorio de la UCI en la siguiente liga:\n",
        "\n",
        "https://archive.ics.uci.edu/ml/datasets/Statlog+%28Australian+Credit+Approval%29\n",
        "\n",
        "El objetivo es determinar si se autoriza una tarjeta de crédito dada cierta información del solicitante.\n",
        "\n",
        "Revisa la información que se encuentra en la página anterior para que tengas mayor información sobre la naturaleza de los datos y del problema. \n"
      ],
      "metadata": {
        "id": "IlOMZhdJvJ59"
      }
    },
    {
      "cell_type": "code",
      "source": [
        "import numpy as np\n",
        "import pandas as pd\n",
        "import seaborn as sns \n",
        "import matplotlib.pyplot as plt \n",
        "\n",
        "from sklearn.model_selection import train_test_split\n",
        "\n",
        "from sklearn.pipeline import Pipeline\n",
        "from sklearn.compose import ColumnTransformer\n",
        "\n",
        "from sklearn.impute import SimpleImputer\n",
        "from sklearn.preprocessing import MinMaxScaler, OneHotEncoder\n",
        "\n",
        "from sklearn.linear_model import LogisticRegression\n",
        "from sklearn.tree import DecisionTreeClassifier\n",
        "from sklearn.neural_network import MLPClassifier\n",
        "from sklearn.neighbors import KNeighborsClassifier\n",
        "from sklearn.svm import SVC\n",
        "\n",
        "from sklearn.model_selection import cross_val_score\n",
        "from sklearn.model_selection import RepeatedStratifiedKFold"
      ],
      "metadata": {
        "id": "vN-DVyD6rLtb"
      },
      "execution_count": 8,
      "outputs": []
    },
    {
      "cell_type": "code",
      "source": [
        "mypath = \"https://archive.ics.uci.edu/ml/machine-learning-databases/statlog/australian/australian.dat\"\n",
        "\n",
        "data = pd.read_csv(mypath, sep=\" \", header=None)\n",
        "\n",
        "data.columns = ['A1','A2','A3','A4','A5','A6','A7','A8','A9','A10','A11','A12','A13','A14','class']\n",
        "\n",
        "print(data.shape)\n",
        "data.head()"
      ],
      "metadata": {
        "colab": {
          "base_uri": "https://localhost:8080/",
          "height": 225
        },
        "id": "dUXCreKYy_pD",
        "outputId": "5b67ae1b-3c9d-4b40-d5fd-f90dbb1a6d93"
      },
      "execution_count": 9,
      "outputs": [
        {
          "output_type": "stream",
          "name": "stdout",
          "text": [
            "(690, 15)\n"
          ]
        },
        {
          "output_type": "execute_result",
          "data": {
            "text/plain": [
              "   A1     A2     A3  A4  A5  A6     A7  A8  A9  A10  A11  A12  A13   A14  \\\n",
              "0   1  22.08  11.46   2   4   4  1.585   0   0    0    1    2  100  1213   \n",
              "1   0  22.67   7.00   2   8   4  0.165   0   0    0    0    2  160     1   \n",
              "2   0  29.58   1.75   1   4   4  1.250   0   0    0    1    2  280     1   \n",
              "3   0  21.67  11.50   1   5   3  0.000   1   1   11    1    2    0     1   \n",
              "4   1  20.17   8.17   2   6   4  1.960   1   1   14    0    2   60   159   \n",
              "\n",
              "   class  \n",
              "0      0  \n",
              "1      0  \n",
              "2      0  \n",
              "3      1  \n",
              "4      1  "
            ],
            "text/html": [
              "\n",
              "  <div id=\"df-2616e72f-0556-4513-aaab-9d40951d82d5\">\n",
              "    <div class=\"colab-df-container\">\n",
              "      <div>\n",
              "<style scoped>\n",
              "    .dataframe tbody tr th:only-of-type {\n",
              "        vertical-align: middle;\n",
              "    }\n",
              "\n",
              "    .dataframe tbody tr th {\n",
              "        vertical-align: top;\n",
              "    }\n",
              "\n",
              "    .dataframe thead th {\n",
              "        text-align: right;\n",
              "    }\n",
              "</style>\n",
              "<table border=\"1\" class=\"dataframe\">\n",
              "  <thead>\n",
              "    <tr style=\"text-align: right;\">\n",
              "      <th></th>\n",
              "      <th>A1</th>\n",
              "      <th>A2</th>\n",
              "      <th>A3</th>\n",
              "      <th>A4</th>\n",
              "      <th>A5</th>\n",
              "      <th>A6</th>\n",
              "      <th>A7</th>\n",
              "      <th>A8</th>\n",
              "      <th>A9</th>\n",
              "      <th>A10</th>\n",
              "      <th>A11</th>\n",
              "      <th>A12</th>\n",
              "      <th>A13</th>\n",
              "      <th>A14</th>\n",
              "      <th>class</th>\n",
              "    </tr>\n",
              "  </thead>\n",
              "  <tbody>\n",
              "    <tr>\n",
              "      <th>0</th>\n",
              "      <td>1</td>\n",
              "      <td>22.08</td>\n",
              "      <td>11.46</td>\n",
              "      <td>2</td>\n",
              "      <td>4</td>\n",
              "      <td>4</td>\n",
              "      <td>1.585</td>\n",
              "      <td>0</td>\n",
              "      <td>0</td>\n",
              "      <td>0</td>\n",
              "      <td>1</td>\n",
              "      <td>2</td>\n",
              "      <td>100</td>\n",
              "      <td>1213</td>\n",
              "      <td>0</td>\n",
              "    </tr>\n",
              "    <tr>\n",
              "      <th>1</th>\n",
              "      <td>0</td>\n",
              "      <td>22.67</td>\n",
              "      <td>7.00</td>\n",
              "      <td>2</td>\n",
              "      <td>8</td>\n",
              "      <td>4</td>\n",
              "      <td>0.165</td>\n",
              "      <td>0</td>\n",
              "      <td>0</td>\n",
              "      <td>0</td>\n",
              "      <td>0</td>\n",
              "      <td>2</td>\n",
              "      <td>160</td>\n",
              "      <td>1</td>\n",
              "      <td>0</td>\n",
              "    </tr>\n",
              "    <tr>\n",
              "      <th>2</th>\n",
              "      <td>0</td>\n",
              "      <td>29.58</td>\n",
              "      <td>1.75</td>\n",
              "      <td>1</td>\n",
              "      <td>4</td>\n",
              "      <td>4</td>\n",
              "      <td>1.250</td>\n",
              "      <td>0</td>\n",
              "      <td>0</td>\n",
              "      <td>0</td>\n",
              "      <td>1</td>\n",
              "      <td>2</td>\n",
              "      <td>280</td>\n",
              "      <td>1</td>\n",
              "      <td>0</td>\n",
              "    </tr>\n",
              "    <tr>\n",
              "      <th>3</th>\n",
              "      <td>0</td>\n",
              "      <td>21.67</td>\n",
              "      <td>11.50</td>\n",
              "      <td>1</td>\n",
              "      <td>5</td>\n",
              "      <td>3</td>\n",
              "      <td>0.000</td>\n",
              "      <td>1</td>\n",
              "      <td>1</td>\n",
              "      <td>11</td>\n",
              "      <td>1</td>\n",
              "      <td>2</td>\n",
              "      <td>0</td>\n",
              "      <td>1</td>\n",
              "      <td>1</td>\n",
              "    </tr>\n",
              "    <tr>\n",
              "      <th>4</th>\n",
              "      <td>1</td>\n",
              "      <td>20.17</td>\n",
              "      <td>8.17</td>\n",
              "      <td>2</td>\n",
              "      <td>6</td>\n",
              "      <td>4</td>\n",
              "      <td>1.960</td>\n",
              "      <td>1</td>\n",
              "      <td>1</td>\n",
              "      <td>14</td>\n",
              "      <td>0</td>\n",
              "      <td>2</td>\n",
              "      <td>60</td>\n",
              "      <td>159</td>\n",
              "      <td>1</td>\n",
              "    </tr>\n",
              "  </tbody>\n",
              "</table>\n",
              "</div>\n",
              "      <button class=\"colab-df-convert\" onclick=\"convertToInteractive('df-2616e72f-0556-4513-aaab-9d40951d82d5')\"\n",
              "              title=\"Convert this dataframe to an interactive table.\"\n",
              "              style=\"display:none;\">\n",
              "        \n",
              "  <svg xmlns=\"http://www.w3.org/2000/svg\" height=\"24px\"viewBox=\"0 0 24 24\"\n",
              "       width=\"24px\">\n",
              "    <path d=\"M0 0h24v24H0V0z\" fill=\"none\"/>\n",
              "    <path d=\"M18.56 5.44l.94 2.06.94-2.06 2.06-.94-2.06-.94-.94-2.06-.94 2.06-2.06.94zm-11 1L8.5 8.5l.94-2.06 2.06-.94-2.06-.94L8.5 2.5l-.94 2.06-2.06.94zm10 10l.94 2.06.94-2.06 2.06-.94-2.06-.94-.94-2.06-.94 2.06-2.06.94z\"/><path d=\"M17.41 7.96l-1.37-1.37c-.4-.4-.92-.59-1.43-.59-.52 0-1.04.2-1.43.59L10.3 9.45l-7.72 7.72c-.78.78-.78 2.05 0 2.83L4 21.41c.39.39.9.59 1.41.59.51 0 1.02-.2 1.41-.59l7.78-7.78 2.81-2.81c.8-.78.8-2.07 0-2.86zM5.41 20L4 18.59l7.72-7.72 1.47 1.35L5.41 20z\"/>\n",
              "  </svg>\n",
              "      </button>\n",
              "      \n",
              "  <style>\n",
              "    .colab-df-container {\n",
              "      display:flex;\n",
              "      flex-wrap:wrap;\n",
              "      gap: 12px;\n",
              "    }\n",
              "\n",
              "    .colab-df-convert {\n",
              "      background-color: #E8F0FE;\n",
              "      border: none;\n",
              "      border-radius: 50%;\n",
              "      cursor: pointer;\n",
              "      display: none;\n",
              "      fill: #1967D2;\n",
              "      height: 32px;\n",
              "      padding: 0 0 0 0;\n",
              "      width: 32px;\n",
              "    }\n",
              "\n",
              "    .colab-df-convert:hover {\n",
              "      background-color: #E2EBFA;\n",
              "      box-shadow: 0px 1px 2px rgba(60, 64, 67, 0.3), 0px 1px 3px 1px rgba(60, 64, 67, 0.15);\n",
              "      fill: #174EA6;\n",
              "    }\n",
              "\n",
              "    [theme=dark] .colab-df-convert {\n",
              "      background-color: #3B4455;\n",
              "      fill: #D2E3FC;\n",
              "    }\n",
              "\n",
              "    [theme=dark] .colab-df-convert:hover {\n",
              "      background-color: #434B5C;\n",
              "      box-shadow: 0px 1px 3px 1px rgba(0, 0, 0, 0.15);\n",
              "      filter: drop-shadow(0px 1px 2px rgba(0, 0, 0, 0.3));\n",
              "      fill: #FFFFFF;\n",
              "    }\n",
              "  </style>\n",
              "\n",
              "      <script>\n",
              "        const buttonEl =\n",
              "          document.querySelector('#df-2616e72f-0556-4513-aaab-9d40951d82d5 button.colab-df-convert');\n",
              "        buttonEl.style.display =\n",
              "          google.colab.kernel.accessAllowed ? 'block' : 'none';\n",
              "\n",
              "        async function convertToInteractive(key) {\n",
              "          const element = document.querySelector('#df-2616e72f-0556-4513-aaab-9d40951d82d5');\n",
              "          const dataTable =\n",
              "            await google.colab.kernel.invokeFunction('convertToInteractive',\n",
              "                                                     [key], {});\n",
              "          if (!dataTable) return;\n",
              "\n",
              "          const docLinkHtml = 'Like what you see? Visit the ' +\n",
              "            '<a target=\"_blank\" href=https://colab.research.google.com/notebooks/data_table.ipynb>data table notebook</a>'\n",
              "            + ' to learn more about interactive tables.';\n",
              "          element.innerHTML = '';\n",
              "          dataTable['output_type'] = 'display_data';\n",
              "          await google.colab.output.renderOutput(dataTable, element);\n",
              "          const docLink = document.createElement('div');\n",
              "          docLink.innerHTML = docLinkHtml;\n",
              "          element.appendChild(docLink);\n",
              "        }\n",
              "      </script>\n",
              "    </div>\n",
              "  </div>\n",
              "  "
            ]
          },
          "metadata": {},
          "execution_count": 9
        }
      ]
    },
    {
      "cell_type": "markdown",
      "source": [
        "###**Variables Categóricas y Numéricas**\n",
        "\n",
        "Los nombres de las variables fueron eliminados para cuidar la privacidad de los solicitantes, sin embargo se informa que de las 14 variables de entrada, 8 son categóricas y 6 numéricas.  \n",
        "\n",
        "La última columna es la variable binaria de salida que nos dice si la tarjeta de crédito se autorizó (1) o no se autorizó (0).\n",
        "\n",
        "De acuerdo a la información de la página de la UCI las siguientes 8 variables de entrada son las categóricas:\n",
        "\n",
        "A1 (binaria), A4 (3 niveles), A5 (14 niveles), A6 (9 niveles), A8 (binaria), A9 (binaria), A11 (binaria), A12 (3 niveles).\n",
        "\n",
        "El resto de las 6 variables de entrada las definen como numéricas continuas: \n",
        "\n",
        "A2,  A3,  A7,  A10,  A13,  A14.\n",
        "\n",
        "Con el fin de simplificar el análisis de preparación de los datos adelantamos que varios de los niveles de las variables categóricas tienen muy bajas frecuencias. Algunos tienen por ejemplo 1 solo registro, lo cual hace imposible el querer inferir algo sobre dicho nivel. Por ello agruparemos a continuación algunos de los niveles más bajos bajo el criterio de que al menos cada nivel en cada factor tenga al menos un 5% de información. Existen varias reglas empíricas sobre esta cantidad mínima en cada nivel y la del 5% es una de las más comunes, así que es la que seguiremos en este ejemplo. \n",
        "\n",
        "Aplicaremos la transformación map() de Python para llevar a cabo la agrupación de los niveles de menor frecuencia indicadas mediante un diccionario. En la notación a:b, el entero \"a\" es sustituido por \"b\", como se indica a continuación. \n",
        "\n",
        "Estaremos asignando y agrupando a un mismo nivel 0 a todos aquellos niveles de baja frecuencia.\n",
        "\n"
      ],
      "metadata": {
        "id": "qqvSevM6zRUU"
      }
    },
    {
      "cell_type": "code",
      "source": [
        "# Por ejemplo, veamos cómo se distribuyen los niveles en el caso del factor A4:\n",
        "\n",
        "data['A4'].value_counts()"
      ],
      "metadata": {
        "colab": {
          "base_uri": "https://localhost:8080/"
        },
        "id": "pYVv41cZPZ9f",
        "outputId": "8c8ec499-0132-4df8-d3ef-5248af7d1091"
      },
      "execution_count": 10,
      "outputs": [
        {
          "output_type": "execute_result",
          "data": {
            "text/plain": [
              "2    525\n",
              "1    163\n",
              "3      2\n",
              "Name: A4, dtype: int64"
            ]
          },
          "metadata": {},
          "execution_count": 10
        }
      ]
    },
    {
      "cell_type": "code",
      "source": [
        "data['A4'].value_counts()/ data.shape[0]"
      ],
      "metadata": {
        "colab": {
          "base_uri": "https://localhost:8080/"
        },
        "id": "Ha6N8w5I5EEZ",
        "outputId": "9255a087-c8e5-458a-a5e8-a3214a5ea3c5"
      },
      "execution_count": 11,
      "outputs": [
        {
          "output_type": "execute_result",
          "data": {
            "text/plain": [
              "2    0.760870\n",
              "1    0.236232\n",
              "3    0.002899\n",
              "Name: A4, dtype: float64"
            ]
          },
          "metadata": {},
          "execution_count": 11
        }
      ]
    },
    {
      "cell_type": "markdown",
      "source": [
        "Lleva a cabo la inspección de los demás factores categóricos:"
      ],
      "metadata": {
        "id": "HTr1p8_IQLjI"
      }
    },
    {
      "cell_type": "code",
      "source": [
        "data['A4'] = data['A4'].map({2:2, 1:0, 3:0})\n",
        "data['A5'] = data['A5'].map({1:1,2:0,3:3,4:4,5:0,6:6,7:7,8:8,9:9,10:0,11:11,12:0,13:13,14:14})\n",
        "data['A6'] = data['A6'].map({1:1,2:0,3:0,4:4,5:5,7:0,8:8,9:0})"
      ],
      "metadata": {
        "id": "J_Amy2UA4sjL"
      },
      "execution_count": 12,
      "outputs": []
    },
    {
      "cell_type": "code",
      "source": [
        "data['A4'].value_counts()/ data.shape[0]"
      ],
      "metadata": {
        "colab": {
          "base_uri": "https://localhost:8080/"
        },
        "id": "mQCoBIfg7U6b",
        "outputId": "09235ac1-49b1-44de-dee8-5fcfe154787f"
      },
      "execution_count": 13,
      "outputs": [
        {
          "output_type": "execute_result",
          "data": {
            "text/plain": [
              "2    0.76087\n",
              "0    0.23913\n",
              "Name: A4, dtype: float64"
            ]
          },
          "metadata": {},
          "execution_count": 13
        }
      ]
    },
    {
      "cell_type": "code",
      "source": [
        "# Ahora sí, definamos nuestras variables de entrada y de salida, observa que ambas son DataFrames de Pandas:\n",
        "\n",
        "X = data.iloc[:,:-1]  \n",
        "\n",
        "Y = data.iloc[:,-1]     # También puede ser: data[['class']]     "
      ],
      "metadata": {
        "id": "ftMxtlhy78RI"
      },
      "execution_count": 14,
      "outputs": []
    },
    {
      "cell_type": "markdown",
      "source": [
        "Consideraremos un $20\\%$ de datos en el conjunto de prueba y dejaremos el resto, $80\\%$, para utilizar en validación-cruzada."
      ],
      "metadata": {
        "id": "GR1GCB2Ra-lV"
      }
    },
    {
      "cell_type": "code",
      "source": [
        "Xtv, Xtest, ytv, ytest = train_test_split(X, Y, test_size=0.2, stratify=Y, random_state=1)  \n",
        "\n",
        "print(Xtv.shape, ': dimensión de datos de entrada para entrenamiento y validación')\n",
        "print(Xtest.shape, ': dimensión de datos de entrada para prueba')  \n",
        "\n",
        "print(ytv.shape, ': dimensión de variable de salida para entrenamiento y validación')\n",
        "print(ytest.shape, ': dimensión de variable de salida para prueba')"
      ],
      "metadata": {
        "colab": {
          "base_uri": "https://localhost:8080/"
        },
        "id": "HJ2lIDs68bc_",
        "outputId": "1f7d6b1f-c0f5-4bc5-c9b1-a5a5d16fb5c2"
      },
      "execution_count": 15,
      "outputs": [
        {
          "output_type": "stream",
          "name": "stdout",
          "text": [
            "(552, 14) : dimensión de datos de entrada para entrenamiento y validación\n",
            "(138, 14) : dimensión de datos de entrada para prueba\n",
            "(552,) : dimensión de variable de salida para entrenamiento y validación\n",
            "(138,) : dimensión de variable de salida para prueba\n"
          ]
        }
      ]
    },
    {
      "cell_type": "markdown",
      "source": [
        "El argumento \"stratify=Y\" permite generar las particiones conservando el mismo porcentaje de cada clase en cada subconjunto. Otra manera de interpretar el uso de este argumento es decir que la distribución de las clases del conjunto de entrenamiento utilizado para generar el modelo, será la misma que la distribución de las clases que tendrán los datos en la vida real.   \n",
        "\n",
        "Solo para verificar que no estamos con un problema de clases desbalanceadas, problema que abordaremos en semanas más adelante, obtengamos el porcentaje de datos en cada clase de la variable de salida. Esto lo podemos obtener sumando los casos positivos (1) y dividéndolos por el total de registros:\n",
        "\n"
      ],
      "metadata": {
        "id": "4P-78VYsORNF"
      }
    },
    {
      "cell_type": "code",
      "source": [
        "ytv.sum() / ytv.shape[0]"
      ],
      "metadata": {
        "colab": {
          "base_uri": "https://localhost:8080/"
        },
        "id": "RPBJWyNENsj-",
        "outputId": "0d1105cd-9514-4038-c8e7-babc78d9faf3"
      },
      "execution_count": 16,
      "outputs": [
        {
          "output_type": "execute_result",
          "data": {
            "text/plain": [
              "0.44565217391304346"
            ]
          },
          "metadata": {},
          "execution_count": 16
        }
      ]
    },
    {
      "cell_type": "markdown",
      "source": [
        "Tenemos así que las clases de créditos aprobados (1) y no aprobados (0) están distribuidos en un $44.5\\%$ y $55.5\\%$, respectivamente. Esto nos dice que podemos considerarlo como un problema de clases balanceadas, que para el caso biclase teóricamente debe ser del $50\\%$ cada uno.\n",
        "\n",
        "**NOTA:** Habrás observado que en este último paso utilizamos información de los datos de validación junto con los de entrenamiento, e inclusive al utilizar el argumento \"stratify=Y\" en la función \"train_test_split\", estamos utilizando también información de todo el conjunto de datos de la variable de salida para determinar el porcentaje de cada clase, lo cual estricamente lleva a un problema de filtración de información. Sin embargo, tomando en cuenta que las particiones son aleatorizadas, podemos simplificar los procesos y suponer que los porcentajes en cada caso serán relativamente muy parecidos. Además, como vamos a utilizar validación-cruzada, lo cual modifica en cada partición los conjuntos de entrenamiento y validación, habría que calcular el porcentaje de cada clase en cada partición solamente usando los datos de entrenamiento y luego promediarlos, es lo correcto, pero en general no se hace así ya que las diferencias son despreciables si se hace de manera aleatorizada. Aquí es donde también entra el criterio de un buen científico de datos para saber tomar decisiones que aunque a veces no son cien por ciento como dice la teoría, son lo suficientemente acertadas para saber que las diferencias obtenidas son despreciables. "
      ],
      "metadata": {
        "id": "UTqExGzkdJJf"
      }
    },
    {
      "cell_type": "code",
      "source": [
        "# Transformaciones a factores numéricos de entrada:\n",
        "num_pipeline = Pipeline(steps = [('impMediana', SimpleImputer(strategy='median')),\n",
        "                                 ('escalaNum', MinMaxScaler(feature_range=(1,2)))])   \n",
        "num_pipeline_nombres = ['A2','A3','A7','A10','A13','A14']\n",
        "\n",
        "# Transformaciones a factores categóricos de entrada:\n",
        "catImp_pipeline = Pipeline(steps = [('impModa', SimpleImputer(strategy='most_frequent'))])  \n",
        "catImp_pipeline_nombres = ['A1', 'A4', 'A5', 'A6', 'A8', 'A9', 'A11', 'A12']\n",
        "\n",
        "catOHE_pipeline = Pipeline(steps = [('OneHotE', OneHotEncoder(drop='first'))])\n",
        "catOHE_pipeline_nombres = [ 'A4','A5','A6','A12']\n",
        "\n",
        "\n",
        "# Conjuntamos las transformaciones numéricas y categóricas que se estarán aplicando a los datos de entrada:\n",
        "columnasTransformer = ColumnTransformer(transformers = [('numpipe', num_pipeline, num_pipeline_nombres),\n",
        "                                                        ('catimp', catImp_pipeline, catImp_pipeline_nombres),\n",
        "                                                        ('catohe', catOHE_pipeline, catOHE_pipeline_nombres)],\n",
        "                                        remainder='passthrough')"
      ],
      "metadata": {
        "id": "HMY7jcEi97BX"
      },
      "execution_count": 17,
      "outputs": []
    },
    {
      "cell_type": "markdown",
      "source": [
        "Más adelante estaremos estudiando los modelos que se muestran a continuación. Por el momento veámoslos simplemente como métodos de aprendizaje supervisado los cuales estamos comparando para ver cuál nos ayuda a predecir mejor la autorización o no de las tarjetas de crédito.\n",
        "\n",
        "Observa que estaremos concatenando los modelos y sus nombres en dos listas diferentes, para posteriormente llevar a cabo el entrenamiento de cada uno de ellos de manera secuencial. \n",
        "\n",
        "Recuerda que una manera general de empezar a abordar un problema en el área de aprendizaje automático es partiendo del entrenamiento de varios modelos diferentes con sus valores de agrumentos predeterminados para una primera comparación. Sin embargo, con el fin de evitar errores posteriores de no convergencia estamos modificando ligeramente algunos de ellos como se muestran a continuación. \n",
        "\n",
        "Puedes ir revisando la documentación de cada uno de estos métodos en scikit-learn. "
      ],
      "metadata": {
        "id": "uPazkO0WAPH1"
      }
    },
    {
      "cell_type": "code",
      "source": [
        "def get_models():\n",
        "  modelos = list()\n",
        "  nombres = list()\n",
        "\n",
        "  # LR - Regresión Logística:\n",
        "  modelos.append(LogisticRegression(solver='liblinear'))\n",
        "  nombres.append('LR')\n",
        "\n",
        "  # DT - Árbol de Decisión:\n",
        "  modelos.append(DecisionTreeClassifier())\n",
        "  nombres.append('DT')\n",
        "  \n",
        "  # MLP - Red Neuronal Artificial / Perceptrón Lineal Multicapa:  \n",
        "  modelos.append(MLPClassifier(hidden_layer_sizes=(30,), max_iter=3000))\n",
        "  nombres.append('MLP')\n",
        "  \n",
        "  # SVM - Máquina de Vector Soporte:\n",
        "  modelos.append(SVC(gamma='scale'))\n",
        "  nombres.append('SVM')\n",
        "\n",
        "  # kNN - k-Vecinos más cercanos:\n",
        "  modelos.append(KNeighborsClassifier())\n",
        "  nombres.append('kNN')\n",
        "  \n",
        "  return modelos, nombres"
      ],
      "metadata": {
        "id": "YTj86cd3_l_r"
      },
      "execution_count": 18,
      "outputs": []
    },
    {
      "cell_type": "markdown",
      "source": [
        "Llevamos a cabo el entrenamiento usando el Pipeline para la transformación de los datos y que nos ayuda a evitar el filtrado de información de los datos entre los conjuntos de validación y prueba. \n",
        "\n",
        "Usaremos validación-cruzada (cross-validation, CV) con su variante de repetir el proceso además varias veces (nosotros lo haremos 3 veces) y donde las particiones se generan estratificadas, para respetar en lo posible la distribución de las clases en cada partición del CV. Revisa la siguiente liga de su documentación:\n",
        "\n",
        "https://scikit-learn.org/stable/modules/generated/sklearn.model_selection.RepeatedStratifiedKFold.html"
      ],
      "metadata": {
        "id": "IooOOrPXIIWk"
      }
    },
    {
      "cell_type": "code",
      "source": [
        "modelos, nombres = get_models()  # cargamos los modelos a comparar\n",
        "resultados = list()   \n",
        "\n",
        "for i in range(len(modelos)):\n",
        "\n",
        "  pipeline = Pipeline(steps=[('ct',columnasTransformer),('m',modelos[i])])\n",
        "\n",
        "  cv = RepeatedStratifiedKFold(n_splits=10, n_repeats=3, random_state=0)\n",
        "  scores = cross_val_score(pipeline, Xtv, np.ravel(ytv), scoring='accuracy', cv=cv)\n",
        "\n",
        "\n",
        "  resultados.append(scores)\n",
        "  print('>> %s: %.3f (%.3f)' % (nombres[i], np.mean(scores), np.std(scores)))"
      ],
      "metadata": {
        "colab": {
          "base_uri": "https://localhost:8080/"
        },
        "id": "nWaZ-tc3DXPE",
        "outputId": "b8d62b45-4bea-49c0-a8e2-2d4c4192e3b0"
      },
      "execution_count": 19,
      "outputs": [
        {
          "output_type": "stream",
          "name": "stdout",
          "text": [
            ">> LR: 0.861 (0.039)\n",
            ">> DT: 0.811 (0.058)\n",
            ">> MLP: 0.839 (0.040)\n",
            ">> SVM: 0.850 (0.041)\n",
            ">> kNN: 0.791 (0.040)\n"
          ]
        }
      ]
    },
    {
      "cell_type": "markdown",
      "source": [
        "Observamos que el modelo de regresión logística es el obtiene el mejor desempeño promedio con respecto a la métrica de exactitud (accuracy). Entre paréntesis se muestra la desviación estándar de cada resultado.\n",
        "\n",
        "Mostremos también sus diagramas de caja y bigotes para visualizar mejor la variabilidad de cada resultado:"
      ],
      "metadata": {
        "id": "0PWWAsPvJrrK"
      }
    },
    {
      "cell_type": "code",
      "source": [
        "plt.boxplot(resultados, labels=nombres, showmeans=True)\n",
        "plt.show()"
      ],
      "metadata": {
        "colab": {
          "base_uri": "https://localhost:8080/",
          "height": 265
        },
        "id": "eSMdq9PPeIzc",
        "outputId": "9b4a7cd8-7d6b-4005-ea48-7d73b6c70f38"
      },
      "execution_count": 20,
      "outputs": [
        {
          "output_type": "display_data",
          "data": {
            "text/plain": [
              "<Figure size 432x288 with 1 Axes>"
            ],
            "image/png": "[encoded data removed]"
          },
          "metadata": {
            "needs_background": "light"
          }
        }
      ]
    },
    {
      "cell_type": "markdown",
      "source": [
        "##**Regresión Logística con regularizaciones $L_1$ y $L_2$:**\n",
        "\n",
        "Ya que la regresión logística fue la de mejor desempeño en cuanto a promedio en el entrenamiento anterior, realicemos un nuevo entrenamiento aplicando ahora las técnicas de regularización. Lo haremos de manera análoga a como procedimos anteriormente. Sin embargo, ahora usaremos los argumentos de la función LogisticRegression de scikit-learn para implementar cada uno de los casos de regularización. Esto simplemente para mostrar las diversas formas que en general se puede llegar a implementar un mismo proceso. Posiblemente no se obtenga exactamente el mismo resultado usando ambos casos, pero se esperaría que fueran aproximadamente análogos.\n",
        "\n",
        "En este caso debes revisar la documentación para ver cuáles argumentos son adecuados en cada método de regularización ya que no todas las combinaciones son posibles, generando errores de ejecución en algunas de ellas. Para evitarlo revisa la liga de la documentación correspondiente:\n",
        "\n",
        "https://scikit-learn.org/stable/modules/generated/sklearn.linear_model.LogisticRegression.html \n",
        "\n",
        "Y nuevamente se han modificado algunos de los valores predeterminados en algunos de ellos para que cada uno converja durante el proceso de entrenamiento."
      ],
      "metadata": {
        "id": "Fe87BYvvJ355"
      }
    },
    {
      "cell_type": "code",
      "source": [
        "#from pandas.core.common import random_state\n",
        "\n",
        "def get_modelsRegs():\n",
        "  modelos, nombres = list(), list()\n",
        "\n",
        "  # LR - sin regularización:\n",
        "  modelos.append(LogisticRegression(penalty='none', solver='lbfgs', max_iter=2000, random_state=1))\n",
        "  nombres.append('LR')\n",
        "\n",
        "  # Lasso:\n",
        "  modelos.append(LogisticRegression(penalty='l1', solver='liblinear', max_iter=2000, C=5, random_state=1))\n",
        "  nombres.append('LASSO')\n",
        "  \n",
        "  # Ridge:\n",
        "  modelos.append(LogisticRegression(penalty='l2', solver='liblinear', max_iter=2000, C=10.01, random_state=1))\n",
        "  nombres.append('RIDGE')\n",
        "  \n",
        "  # Elastic-Net:\n",
        "  modelos.append(LogisticRegression(penalty='elasticnet', l1_ratio=0.5, solver='saga', max_iter=4000, C=1., random_state=1))\n",
        "  nombres.append('EN')\n",
        "\n",
        "  return modelos, nombres"
      ],
      "metadata": {
        "id": "wEaQEjEiK_Kz"
      },
      "execution_count": 21,
      "outputs": []
    },
    {
      "cell_type": "code",
      "source": [
        "modelos, nombres = get_modelsRegs()\n",
        "resultados = list() \n",
        "\n",
        "for i in range(len(modelos)):\n",
        "\n",
        "  pipeline = Pipeline(steps=[('ct',columnasTransformer),('m',modelos[i])])\n",
        "\n",
        "  cv = RepeatedStratifiedKFold(n_splits=10, n_repeats=5, random_state=8)\n",
        "  scores = cross_val_score(pipeline, Xtv, np.ravel(ytv), scoring='accuracy', cv=cv)\n",
        "\n",
        "  resultados.append(scores)\n",
        "  print('>> %s %.3f (%.3f)' % (nombres[i], np.mean(scores), np.std(scores)))\n",
        "\n",
        "\n",
        "plt.boxplot(resultados, labels=nombres, showmeans=True)\n",
        "plt.show()"
      ],
      "metadata": {
        "colab": {
          "base_uri": "https://localhost:8080/",
          "height": 338
        },
        "id": "QvTCiEfkMdle",
        "outputId": "6dd68682-f6ee-4db9-888c-a66f7e9c71fa"
      },
      "execution_count": 22,
      "outputs": [
        {
          "output_type": "stream",
          "name": "stdout",
          "text": [
            ">> LR 0.868 (0.050)\n",
            ">> LASSO 0.868 (0.050)\n",
            ">> RIDGE 0.869 (0.048)\n",
            ">> EN 0.863 (0.048)\n"
          ]
        },
        {
          "output_type": "display_data",
          "data": {
            "text/plain": [
              "<Figure size 432x288 with 1 Axes>"
            ],
            "image/png": "[encoded data removed]"
          },
          "metadata": {
            "needs_background": "light"
          }
        }
      ]
    },
    {
      "cell_type": "markdown",
      "source": [
        "###**Actividad-comentario en Canvas:**\n",
        "\n",
        "###**Con base a la exactitud y desviación estándar de cada modelo mostrados en los resultados anteriores, ¿qué puedes decir del modelo generado? ¿Ayudan en este caso el uso de las técnicas de regularización para obtener un mejor modelo? ¿Podríamos considerar las diferencias mostradas entre ellos suficientes como para hablar de que uno de ellos es mejor que los otros?**\n",
        "\n",
        "Rta:\n",
        "\n",
        "Qué se puede decir del modelo generado?\n",
        "\n",
        "Es importante realizar el procesamiento de limpieza de los datos para optimizar tiempo con el fin de facilitar el procedimiento de transformación de los datos.\n",
        "\n",
        "Cuando se comienza a entrenar el modelo se esperarían los suficientes casos para entender las variables. Un 5% de de información de todo el dataset será lo mínimo para poder realizar los entrenamientos de validación y prueba.\n",
        "\n",
        "![image.png](data:image/png;base64,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)\n",
        "\n",
        "\n",
        "Dando como resultado 45% a créditos aprobados (1) y 55.5% a los no aprobados (0), comprobando con ello la mínima diferencia de los datos.\n",
        "\n",
        "Es importante revisar las columnas para saber también que se podrían hacer con los resultados en el dataset y así mismo realizar los ajustes y tomar decisiones frente a ellos.\n",
        "\n",
        "Se debe realizar ajustes con los resultados, después de haber revisado toda la base de datos, esto nos ayudaría a sustituir valores para tener dos únicos valores o registros, en este casos 2:0.\n",
        "\n",
        "Se deben separar los datos originales en dos (x, y):\n",
        "\n",
        "100% Entrenamiento y validación: Separando de los del test. Esto quiere decir que podría generar error por falta de filtración de la información, sin con ello decir que se puden realizar algunas observaciones importantes al dataset generando porcentajes similares.\n",
        "\n",
        "El modelo nos muestra un caso de datos balanceados (ver ), su margen de diferencia es mínimo y nos permite ver que son suficientes.\n",
        "\n",
        "Se aplican los métodos para seleccionar cuál sería el mejor modelo que nos ayudaría a dar una mejor predicción sobre el objetivo planteado de asignar o no una tarjeta a un cliente según su comportamiento.\n",
        "\n",
        "**¿Ayudan en este caso el uso de las técnicas de regularización para obtener un mejor modelo?** \n",
        "\n",
        "A decir verdad en el presente modelo contribuye a revisar los datos y poderlos justificar frente a otros modelos. Sin embargo las diferencias no fueron considerables.\n",
        "\n",
        "**¿Podríamos considerar las diferencias mostradas entre ellos suficientes como para hablar de que uno de ellos es mejor que los otros?**\n",
        "\n",
        "Nos contribuye a revisar el desempeño que tiene el modelo actual. Sin embargo, al aplicarle los ajustes nos confirma que el modelo de Regresión Logística, se manetiene.\n",
        "\n",
        "###**Realiza ajustes a los argumentos de algunos de los modelos y observa si puedes obtener un mejor resultado, al menos en cuanto a su promedio general.**\n",
        "\n",
        "![image.png](data:image/png;base64,iVBORw0KGgoAAAANSUhEUgAAARoAAADNCAYAAABn/7+ZAAAAAXNSR0IArs4c6QAAAARnQU1BAACxjwv8YQUAAAAJcEhZcwAAFxEAABcRAcom8z8AADJoSURBVHhe7Z3XcxtZfu/3P3D5wa6yy75P9r12ua7L98EP+zC79u6Wa2c2z2rXnrCzszNajUYaBVKkmHPOCcw5iJliFHOSRFLMFKNIipkSc84R39u/RoOiyJZEkAIEiL9P1SmgA8hGA/3BOafP+f2+NzIygrOU4eFhjI2NYX19HVtbW9jc3OTChQuXlwqLhgsXLlovLBouXLhovXxvaGgIZymDg4OicNbW1lg0XLhwkS3fm5qawlnK5OQkpqenxT+2s7OD7e1tLly4cHmpfA8MwzBahkXDMIzWYdEwDKN1WDQMw2gdFg3DMFqHRcMwjNY5JhqlUnlQdI1yfwfrm9s4/J+31xYx8rQfwxNz0hp59jZm0dc3jPUdaYUMyo0F9Pf1YXJxTVpD7OLZUC+GJhek/6vExGA/ng5Pv3Qccow8uo/a+lFpSYmp4T4Mz65Ky/KsLjxH/8C48F9V7G4sY2xoQFg3iOmVLXGdcn0ZA339WNoWF7G3OISq2kZsqBYZxuA4EE11dTW++uorsXz99df44osvYGJiIo6R0Zj1adT2qi9AFWvTT9E9tiAtybMxWgeH6AJsSsvCJYY8Jztcv24Oa0tjpJV3C2uOsz0/AoWbI26bmsNVkYpZmStye+kZEmMVcLC1hqWVF1pHV4QrehVlOSFw93RGcF49dpVb6KlIhJeDI6yMbyO8uAn70uuPsvm8BS6ubuh+Rke7h6bScFjZmMLIwgnVXVOqnY6wMNwCVxtb3DaxhOJOnSibRxlhMLp6Gzaunshrn8TeynOk+gj/39QETn7RmFjZh3J3ETl+7sguHVT9IYYxMA5E4+Pjg0uXLuHhw4eoqalBeXk5Lly4gKdPn0p7aMD2PKJDnBGQVAp1BWNzug0uVnZIb3hZQIdZH6rGbUXWIdFsIMshFE8Fcaw0ROPm7ZBD29Qo8SjRC6H5dJwbsP30U6Q3zao2HWKhKxff+aSJz4u9XZBVPYHp4UKY+oSirKwWz5fpL88j/NZttFKl5GkGbgYlHxz/y+ygOCwUKdVD4tLWZCvs7QKxKDzvy3LDHyzjjwtRkFiKwgxZXUI1ZbsLV3/7R/QsbuNBfjYej76oO7XkRsIp4ZH43OPWBfhWqP7H/nQ7/AMDMbKq+5omw5yVl0Tj7+8vLamgUb9zc3Noa2uT1mjA7gKKg+1wyzMZs7uqi2NzdhCBVpegSHsoWzNZH34Ai9DsQzLZxV1rC1z51lioYbijsntSWn+YPRS6ByM+LgUxIa6wvvYFoisfS9sOsT2DwkgvmFuawtw/HhOCvKqjTXDbMgDJwZ4wsvJA58w+emvSYWlmCdPbtqjufCa9+Agbg3BWKNAhteaW+sth6h+L7Mh42FvawOx6GKbVbSM1ewtIDbJASm4SwnxtcdPCBIUDS+jKj8LNqyZwdU/AyMIWKgsi4JKUjfDIAJgI0vOPU0lHqBMiyV+QovqfMowBcSAaX19feHp6SksqZmZmUF9fL9Z0IiMjNeu32VtEeZit8Ovuh75FVQNka34IITZfwDYsA+syf2pt6AGsowqlJWILdx38kHWvDAprG1SPHq/PEIXuV3HR2BOTq2toTAlAZlW3tOUF87334K2IQN9wH6IcbXC3fhDVCVYHtZ+yCHNk17UhMywAZZ0DeJQfhtvemViWazvNt8Mq0Au9y6rFnbEq/O7DL5HTMI6t6cfwcU/F4rH3tw2F2a9wQ5GDta11FCTao7R/Tajp7GFpbhot2TFCUywHVXc98fNL7hhZ2kBrRQp8ctul1++jxDMCRTVj0jLDGA6vFU1jYyPi4+Px8ccfw8jI6OSi2V5GeoIbAhJLDjo9N+d7EeDniNS6EWnNcTaHq/CliSPulZWisu4xVnbXkWnli0cje5hqS4e5eTCmNo9f+WP1GbCw8xZeVyK8hwg8HqdOVSXuepvhhkeOuM/Io1hctbbH/aoqRLnewJ2KHjxvL4adewQKC+/ByyUCbb2tCDK9gajCalRmBsHMPRrzcm95bwYBAX6oGVwXF5Vbk4h0skRYVj7yknwQWdIorsdUPS78+Qpyn1BbTInafB985xGGsvw8uHvG4bnQino+0I7KykrcifZBVEEr5p88gPFVZ+SXFiLU3RX3B9WdyzMIU/ijdkT1PxnGkHhJNF5eXtLSC0ZHRxEREYGVlRVpzQlYn0bNk2FpQcXqVD86x+alpVewMYXc9HiEhgQjIqUIM9vbGGvtwvNF0tUqaksf4tmKXKML6KvPh09wDJpHl6Q1SnRUFyC7svPFcmUGggL8kVPVdNB0e1ydJbz3GLQ8Vb1ufqQF4SFBCE3Mw8T6q7qCgc4cBZyjC4W/qmJ3aQhpEb5IKqp70a+zMor49Cx0TavuJlHfzsOiZAQEpmJoTvW3u2vzESA0We9Wtx10PI81ViLU1184hxPSGnJWARQhKViVf/sMo9cciIYk4+HhIS0JFfX9fbHPZmBgQFrDvMTOHBL93VDaKNdv9HbZXxlGjLc3mgf5BjdjmByIhppIP/rRj/CnP/1JvMX92Wef4cc//rEY2IqRZ2dhDs/HX3/L/m2wv7GAyUUNapQMo2cciGZ+fh5NTU2ora0VC93i7u7uFmNJMAzDnIUD0RgcMqOXaVmjO2MSJ3qF7N+l/yc90+B/r09248nwK26dvwXUx6HcXsST3vGTvT+G0SLaEc32Cp4tqztAVWytzmHpNdMDiM3JdkTkPsTLdahdFKc6wzKsRrW4t4W67DiYW5jC0iMC/fO72NlYQkakA8xpNG38PdBd57VnTQh2M8eN27bIbpW/07W3MY87wW64fs0cScWtB3fIDqPc3URrXjLsTExg7haM3tlNYeUW2ipiYWdrgqB7j8X+mrQAd1hZ2+L2rW/hkFguvfo4+8uj8PEwR3mPasT1Yn8DnO3MYWLqicZxdUf2y2zPDsDfzQ7GRg4obH7RQTzdXwwLYV33nEol009q4G9uBbeQGEwKp1+5s4LkcGfktPKIYubdoh3RrE/AN9AD2bX90gpgdbQGTk4BaBKH7MuzNlgJo4D0l0b/bk89QZSbPfz9QjEgGGizPxd/MHLFhHiLRol94RprzXKHaXC2uL9yfw/K9efw8fdC3fAiFkaqYWUagNFjt2uUqL3jBb/0Tuyt9sLsz9fxSLwt/jKrQ/VwuxGKFaGWUJtkgYiSx5geqoRlUDQaO/qwvE0HosTWxgY2NjdQEeMJ79SHqhfL0JoRgIA01e1v5fozBDvaoXp0B2NVobhhHo7Ds7BE9teRorBGyqNZrA6X4fqXFhgjI66NIMzHGlf+4IjWZ/tQLnQj3s8GeQ/bMTH74hb41nQjPAMjMcK3q5h3iNaaTuvP2xDmaI3o/BZJHPsYbCiGk709KtrkaxjHRwYDA3VJiCvuRPuDZKQ+mMC+IAUnFzNY2IWismlc3Ge6oxBW5sbwCk1Dz5xwFY6Xwy5GLaw9ZDmborjz6K31DWQ5KVDysB758f64+j8XkNbyXNr2AuXWDLJjAhCoCIUXjdF5toayODOYWPjC2/oG7IMzMbMpNVWWRxDkHY2nx0frqdibRKirAp0zqqrd+lgrwu1i0dRYigibm7j8nYk43eIl1kcQGyzIqO0+UkNt8cfL19A0u4G24mhk1DSh1C8ZPQvCObh/B0bfWcHDxx1mZu7omJJGEwrnPS/AB0Vt2r87xjCvQqt9ND0ZLvjRF7fRuaAeIbKNJOtf4Su7cNmRwSQay/C8Q02YHaTZm8IvuQTFUe6w9U2Qxqiso74wG/ZXLiKlok9cs784isK0CJjc8ETdg3y43LkriWYHGU5eqBk8etdmD3dMvsF1CzfUtT5GeYI78hpV84oOs7s0gvi4cKSl30WgmyPymweR7W+ErBbV3aZ4TyMU9qr+dnOGAt5xteJzWZa6YOkbgj7JAXuzHTD79cfwvZOFrp5GJCrc8eToYe5Ow9PoV7AIjEdrTw+yM3yQU1gE829tUVhTC5/LJkh62I3GtBh4BlSLL2m5o0BwdL34nGjJtUfSgy5piWF0j3ZEs7+DuntBcPCIwMjSrti82duYQlK4E3zTq7G2L1T1pV0Psy40Sa64RmJoYgKTs4vYnO+EkdlNOPmHIizEGb//2hZNY3OYm53F8toKMtxvwz2hFlsrS5idncfq0hDcLluiqLEdwe7uKGoawUhnPnzdEzGzpZbdC+qSHGHqcxezc2PwF5p1bc+p6bSN4vgQxBWqhv7PNN3FHy57YXppCRWJDrBMKBNqExHwS6nF8+f9CHR2RfP0NranO2B72wptU6/piNp9hkCX4IMajdAuRKDFZcQ9HMb44yK4+2QJChV2e94Ma6Gp2DUnNHeUW0KT6DJsUusxN9IKL3cFega6EBcRhojwQFz8r1/DIq4SA02V8A0QmkjPniMz0gtJRS+arUUKbxQ0a6/zmWHehFZEo1wdR1r5fSwc6l1dHmvBvUcdrwy7QCgX++HlZg8bG2u4hGagp6seVQ1N0lagNTcLRUVFCPWyg5WlHQKji7C8uYen5dlwsbIU1jkjJf+x2Jm8OtCIAHNLOPgG48mc/EC3/a0lZEd7wdjGHcUdz6Rj20SGnyBE4cIm9rfXUJoWCgtzM9hHpOHZxrbwugWkhLvD9Lbwuvrn4uvGHmUj+d6LWoQ8StTEe8EvtUVaFuQ6KsjDyRI2/okYWFF1g2+PPMBF4b00T6lO4PbyIBS+9rC0UKBx4OUqT2f+A0yIq7bxqChSOAcWCMivgXpQ875Qi/LxCxOac4c+DIbRMVptOjHH2Znrg4uLFR4OvGE6xttgbw2ZMc5IreuWrUEyjK5g0bwDFoYb0Nb/6rg8bwvl1jxaWntfzL1imHcEi4ZhGK3DomEYRuvol2iU+1hZnMP03NJBp/HmyjIWl1awvLSAlXXVgLr1lQVMT8/i5RtJSsxPTWFxTdWhqtzbwdLCrBi8a3nt+EC8A3ZWMTVNQThfxw7mpqexuH64Q1WJhdkpzK9Ko4R2trAwNyP8v1lsbL9+cNxM/wM09ryYrLq+PIv5pdcco8DW+iJm5o/e+wZ2d7bFc7W/vYE54b3S+10Sjml/Xyk0nebwqL7jpXFJDPMu0I5oNufQPjojLahYnxvF8NzrgzY9rYrCze8uw8TSAr5JD7AqXNftecm48ekFfPaHS8iq7cZYay6uX/4K5ua2sLIIwviCUrxNnBLqCjOTWwiMScXcxiZas+1x+aYxbKytkVzZIf2Hl9mcH4bC3QFGN25DkVp5cKfmMHubS7gfHwUHczOY2LmiaXRZ8M4yKrIVcHS2RmhRq7DXLqpSvXDZ2Aq2Dk6offrqcJtb012wd7RG/bBqusFYYzEshfd7y8gOpd3HBwwSi0PNcLKxxq2bVrhT0nsQS2ewJQUXPzdG99I+lgfq4G1rCwdHB/zh6y+R3DRJB4/ceBck3X/MncHMO0VLoplBSKAzInPqDr7gGxONcLR2wr3OV2dVaMvxQHbLmHDd9sLs2+volcbjN0Q5IiReNRDuSbE/3GMLxOcP42zgnVaBptxA2IXdFdfRRb++vYXyFCuUDLzut3wf5ZEuiCqnuUPjuPXpV6gaOn4bfHWoDk7XQ8SLuzXNFhGl7RjvLYBZQAxq6h9jaZve4TqKcmLRfmz+wFH2URPnhdiiJ6ql5SH42TqgW/DvfE04Ll31wbHZTrvLiPG9jUKKvT5Tjcv/fRVDgoCVsx3w97SH5RUfNB9E4SPmEOzsgcYJ6b2v9sLXNxS989wlzLw7tNd0WnuGTF8bOIYVYFH6CV4ceSwO208UagEylQd03/PF1evX4ebgjKR8oUYjra+LchJE80B83lcWDM8YVXjO7eEy2MQFItTKF9W9y3hakw4fvziMCJWOumRjfGNqLQb0KpOdVLiBTPsgZOXlIT7IBSZ//hRpzTLxePeXUZImiEwQgq1jBHpntnEv5CbMbBQI87SAqVs0JjeUKE9yxnfmTvBNvocZmXCjIjtj8HcNRc+86oTQFIQw83CUFCbC18oYRmam6D3sDGJ9BHGB1sgrT0e4txUum95G/fNF1ApiK+8dRHVAMtqfvWjS9ZWkIiC1QVpSURrihbwmjjXMvDu02EezhUdxDvjNdWf0qKcgrE8j0vq/YeyTJDsFobPAFwGxiYjxskdMxYv5UC3xbohMUV08faUK+CQWic9n6hJhFRqKaBsXZNZOYWvxGcJu2KGoYRr1ObYIvluNnp4eTL2UME6NEndMv8R3NkEYmZxCVawnCpqO33LenOyCvyICtQ0tSPK3Q4LQDMsLMUXBE1VfULrfTRT3LmFnbQFPe7uQk+AO84QycdsxjkxB2J/vgvGvfobQwjrMTfciwc8LT48e6v4cXK99BKuoe5hcmEJemidy8nNx7Q/GSMq8C6tPv4ZbcjVW6BTvPIO/tT3qRl9uorbkOPAUBOadoh3R7KyhINUTHmGZWJUcs700hNAAe0SXvfoL35LlhKTqTqFZ0AOL23bomtvC4vgQogUhGFmGYHhqEb0lgTCy8URDcw2cLE2FX+rnGK5IhJG5H+oftyPS2AHFgmgept6Cb1q5GLxrbFo+/EJ7fhDM3GLR1FIHT7cIPJmlmsEWkj2t4Z6kaqrNthbg629d0NLZgYxIR7hkPsCT6mQ4h9xFfcN9eDkHomN2C9Oj/ejo6EJ2qAvCCqjfRob9aYS5BKLludSs2Z1HgocpAu/WoLY4GT4RJeKo5u2hKnx+yxYNk9RG2kFOjDluh+ei5X4RPH3iBTGOoPheLu5m3YHRLz+DU9J9QTR7aM7yhW1g9pFxM3vI9vNFyWP5pHYMowu0I5q1CZS2dL/0hV+Z6EZ97+vn20z11eHxgKpDtLmqBM3jQi3h/j34u3vC08MDRU39WJroQUygO1x9A5HXppq9TXTV5sPd0wP+gYkYWlJioiMf/r6e8Pb2Rm6dqk/kOLuoyYuFo3cYmg6Cmm+jMi0WKeVSyhblPtoq0+Hu5oqgzAqsiDWxTZRnRcDZJQzNT1UZDh7lx8DVxQuZJW3yMbIkWrMC4RRZJS0Jr1wcRpzQtPGNL4DoOYHdycdwC4tDr9TEIiFlJATBw+sOBtQ7SQzXdWBe9JZQgyy8i04KRHOI9YlaeCqiMfaaQOsMo2202HRi5FCuPUeQjwVKOl8EsNIWyp0lJIW54F4H988w7xYWzTtga24Qg+Pajw+j3FnG4NApcqczzFuGRcMwjNZh0ZyBzelJjAyrUupqk/21WYzOaD+tC8NoC+2IZncd80fGkuxsrLxxKPxSfxlc7YxhZWmJwORibO+sIS7CC3mtS8DeBNLKqjAt90f2t1GaGgJjIysk3WuWDzK+R52libA0N4VHWCom16mjdR9jbXnwcDCFZ8ZDcWxPb3UsLM1M4BN+R9jnNYPctiYQ5e2MihbVCOiZgWp4Ccd+2zsWI4vyr1NuziIpxAO3blGQ8Rcd4xuzrfCwcUHrxK44leFhajSsTc3hEZ2Lpe09QTRjiPXyRH3fG0cEMoxeohXRKNeewUfhj7L2FxfTysgDuHpFoIeixr2CoSo/+CbnYHNzE5vbO1DujOL6ra9hHp6NrZUhWCrCcSTuk0hvaRQcFYVYmB2A/bUbqDg26g1Y6C7EzYBULK+sIt3eAemVY1idb4VtUAgetvZiekV1t2ZLEOLq+gaKA3wRm6lOsH+cx5lx8E+9Lz7fWxmGj4Mdaifn0ZDkBnPFPZkh//soTXRHgPA3Z4drcfuiBXppuItyEemRjvjiggnqn65isr4IPvYZWF1dRrzXVWS2qm5Lz7UWI0iRiCU5izKMnqO1ptPCwEP42tgg836fdJt7Bx3lGbB39kTTU/kOyvHaUFg4OyE3Jwc1bb1Qbk/ALzwEQSlZ6G2ph1t8EoaOOWQPRT4K3KtuQ11REq7/9teIrOqVtr1gd/4JohUBSLiTBL/QSPRO76E51xlGZm7wtTCGY0gG5sg124uoK0mFg5sfagbkx99gdwp+gWFolkbkLvVVwCE8F73NjfC1MsIfv1Vg8ejd5L1F3Am1QWVXu1D78sGXX3yJstEtjDSmISq/FGWKFNQ+WcHebDciBMklJibDX5GAvoMwhXMIDwrAw5emGzCMYaDVPpqBbHd88D830XEQnBxItfkFPrcIkR0Z/Kw2DKY2lriTlISy+g6hqfEMHlGpaGiuR25SPKzjUjB87DpTosDJDN9dM0dBZQUqU7yQWvEiVKaanYVeoeYQgMi4UNjZ+aF1fAklocaILqTxMkokexsj+7HQDNqaRfndBCTGBSDtQZPsVAnMt8Mq0ANPpBG+m0Pl+J9PriBYkE1j3X2EOt3B1NGKm3IdEdafwNjVF1U1dcjJ9EOm0BT0MHZAUWs7EizsEFvYiYVn3YiND0OkIhTOHr5oOUhPI9SIPCNQ+JBvVTOGh3ZEo9xDe1UU7J380fF8BRQ1Qbm9gLtx7nCPy8OM0DSRu4Cp6RSUVSotCaz3w8o3Av3L66j2MMdPbUPxTCb8b1umK647xWNjdwPx7j6o6FR1nLaWZCG1uE18/rTcBxedgrG7v48Cr28RcLcZvVXRQvOnFiurs4j1sEdZzwx2pBTAI+WRsA3Nke3vweYwXBQKPJ5R2XJ/qQfmX11FxdgqZttS4RRTqJphvTyEsIQ7eCwOottHetBlGMXex/76NBTunmh+0o5QXy/4+Xrj4k9/gWveKciNC8IVpyzsK3cR43kdbvmd9JcEVpHgH4LyLh2EAGWYt4x2+mhWx5FQUIjnh6bcLI02IqP80Ws7hBd6CmBrfhUW5ubwSyrE5sY8UvOKMSm0vWZb0mDsmYJDlaMD9jeXkR3liWtmdkiq6oSqH5ryGdnC1E8103t7dQIpwQ64bXIL3qFxmFjeEl63hOQQd9y8aYfkgh5sCnZoyA2HuYkR3APCMb7wqrAWeyiNcEVYvjr8hBIjbffgYHYNzopYjAliFJlqwuff3USB1Ge0uTSIIG8bGBu5o6j+2Uv9OB3Zpeif2MPu6hgi/Jxwy9QcTvF5mJPi6+xOtMI/UIFxuaogw+g5Wm06vc9sT7fD3cUFbSPavxOk3JlHpo8b8qu52cQYJiyaMzDRWo8GudASb5m9pRHUNreLEy4ZxhBh0TAMo3VYNAzDaB0WDcMwWsdgRLO6uoqqqiqxVFZWcuHCRaZUVFSgrq4Oe3tHB3K9WwxGNA8fPsSVK1eQkZGB9PR0Lly4yJS0tDRcvHgRU1P6FVHRYETz4MEDZGdnS0sMw7yK4OBgjI+/iD6pDxhUjSY5OVlaYhjmVfj5+eHZs9eHzdU1LJpDbGxsoLe3V3w0dObn59Hf34/9fdnZWgbF2NgYBgflUuYYFnNzc+JnonxdUOm3AIvmDGhbNKOjozAxMYGxsbH4SMuGSlNTE65evYobN27AyckJy8vS7E8Dgy5IHx8ffPTRR/jd734nfjbr66+aFqLfNDY2HnwmLi4uWv1MWDRnQNuisbe3R15envg8NzcXjo6O4nNDY3d3F999952Yz4rw9fVFQkKC+NzQGBkZwYcffoiJiQlsbW3h448/Fu+sGBrb29uiZPr6+sRlSmp4584d8bk2YNGcAW2L5vbt23j06JH4nB7Nzc3F54YGfam/+eYbselExMbGIiQkRHxuaFAzg+Sibmp89dVXKCwsFJ8bEhTIjT6TpSVVfKOoqCiEh4eLz7UBi+YMaFs0LS0tYk2Afm3osbX1FUngDID8/Hxcu3YNrq6uYnND3750J4VqZ9evXxebTZcuXRIfqZ/DEKHaMr0XajbdunULz5+r8pdpAxbNGdBFZzBV1ekiNeT+GTUdHR0oKCjAwoJhBzWngWfl5eUoKirCyopMHFcDor29Hffu3cPi4qK0RjuwaM6ALkTDMO8DLJozwKJhmJPBojkDLBqGORksmjPAomGYk8GiOQMsGoY5GSyaM/C2RUPjTEpLS18qZWVl4hR7ejy6jdbrK3S37OjxUriA2tpa2fU01obRLsPDw7LnXu4zodLV1SW98uywaM7A2xYNzZ/x9vZ+qbi7u+P73/+++Hh0W1xcnPRK/YOmHBw9XlNTU/zgBz84tj4gIMBgh/EbEg0NDcfOPU1t+eEPf3hsPRW6ff+2YNGcAV01negCfR+YnJyEjY2NtMToA3Tx29nZSUvag0VzBnQhGmpS0OjN96FpQbPQaVoFoz90d3frZGrLuRfN7OysODnuMDSkfG1NlRtpZ2dHjAxG645OpWfRaAaLRv9g0eiA6upqGBkZwc3N7aCP4P79++KJp1AANG0+OjpanOVKQjka85T6IVg0J4dFo3+waLQMSYPCLlAHLM1cpQDjBJ10CgFAcYBpDgh1VFIYwqOdlRT0KDQ0lEWjASwa/YNFo2VIHHQnhybF0aTFzMxMcX1JSQk8PT3xpz/9CYmJieKkM1omKZGA1JCYbt68qdUYHgSLhtEmLBotQ+EkKdIbBf6hmgn1t6ihmdIUzoCCTamhnnkKRn6Yx48fc41GA1g0+geLRgdQMCmqlVDzqLOzU2wOURQ4qr1QECDK21RcXAwrKyvxRB0NCcCdwZphiKKhY6ZQl0fL119/jS+++OLYeqr9GhIsGh2h7nuhGg4FNaJyOHYqRSJTRyE7CotGMwxRNPR9oFgtR0t8fDwcHByOrTe0+DQsGgOARaMZ71PTifr1goKCpCXDhUVjALBoNON9Eg3131GT29Bh0RgALBrNYNHoHywaA4BFoxksGv2DRWMAsGg0g0Wjf7BoDAAWjWawaPQPFo0BwKLRDBaN/sGiMQBYNJrBotE/WDQGAItGM1g0+geLxgBg0WgGi0b/YNEYACwazWDR6B8sGgOARaMZLBr9g0VjALBoNINFo3+waAwAFo1msGj0DxaNAcCi0QwWjf7BojEAWDSawaLRP1g0BgCLRjNYNPoHi0YHUK5rCtmpzoBAUJQ0SrFCITyJhYUFcR9KzXIUFo1msGj0DxaNDlAoFIiJiREDjz99+lRc5+/vj/T0dFEujY2NSEhIEMVja2uLgYEBcR81tJ1Fc3JYNPoHi0bLUCxgFxcXMSNldnY2cnJyxPUeHh5iEjkvLy/xOWVIoH0pHQuFb1RDzyklC6dbOTksGv2DRaNlKA2us7OzKJqsrCwxWRxBqW9TU1PFiPYkmZCQEFE0VMtR70NQk+ru3btco9EAFo3+waLRAdQ8CgwMFJtO1AwiyVCebeqPoRpNf38/kpKSxH0o5crIyIj0ShWUrkXboiEobe/7AItG/2DR6ABKjUFNn5aWFkxOToqZKClFbmxsLFpbW8V9KPUK7dPQ0CAuH+a0ncGUwoP6e+hDflNpa2vDr3/9a/FRbvvRQn+X/r4+QufYxsZGWjJsKioqEBkZKS0ZLnTx29vbS0va41yL5qycVjTUv/Ob3/wGlpaWbywWFhYwNjYWH+W2Hy0kpcN9SdqGJO3r6wsfH583FqrN/OAHP5DdJleo2UpNW11RWFgoexxy5csvv8Qvf/lL2W1yRdt9eYdRKpViOme54zhaTE1N8cMf/lB2m1yh7oSjeehPAovmDJxWNHFxcUhJSZGW3i70haYama6gJiU1Myln+ZtKeXk5ampqZLfJld///veiyHTF559/LvbPyR3L0UJDIuimgdw2ufLxxx+/lJhQm1AXAP3gyB3H0UKfCX2P5bbJld/97ndiKmhNYdGcgdOKhn5tSDbagG7X0y15XUH5y0/zxTsJlP9crsmqLegGAHX8awOqldK4LV1A/Yz0/7QB3UBpbm6Wlk4Oi+YMsGhUoqmrq5OW3i7Ud0Cd9LqC7u7Nzs5KS28XkhjdqdQF09PT4v/TBjSe7DS1TBbNGWDRsGhOCouGRXNqWDQsmpPComHRnBoWDYvmpLBoWDSn5rSiiU9IREx8krT0domKTUBcfLy0pH1YNCeDRcOiOTWnFU1OejKyIjyB+aE3l4VhYHlC9Si3/UjJCHdHdrruxmywaE4Gi4ZFc2pOK5qu6rvo9PwIKLURiu1ri1LYZzDjM/FRbvvLxQYdHh8Kfz9L+k/ah0VzMlg0LJpTc1rRxMQlIDIhVVp6PW1LT/Gf2T9H+/KgtOb1hMclIzpWP5tOg0uDSH5y8vOlz6LZ3tvGxu6GtPRmWDQsmlOji85gq4dW+EvFX8K6xlpa83r0uTPYrcEN/xj9j+iZ75HWvB5di+bilZuYWd2Tll5PeEcEbGtOPm/rz9du6WzAHovmZLBoJFqmW/BPMf+Evwn9G/xzzD+jdVo10fN16KtoRpdH8UHqB/jbsL89sTR1LZp0l4tYLfMEGiNfXRoisdiWiJ+k/gf+Jf7/oq9ZZp+jpT4UGTa/P9UcodOgiWhaplrg0eiBPeXJBMuieQdoWzQpT1Lws7s/w8e5H4uPab1p0pZXo6+icXzkiL8I+gv8Vchf4R+i/gGPZ948bUHXoomyu4TlOqHZ2ZP/mpKH8Lw/4u8E+f9t2N/BIu1D7HbdldnvUOnOQbTl51hdXZX+k3bRRDQm1Sb4+4i/R9Nkk7Tm9bBo3gG6aDppiq5F4yiK5pG09GrKRssR2xWHxJ4k8XFoaVja8mrs7B10KppLV29gZuX1AcZoJtRnZZfwr/H/in9L+Df8V86vML7z5smS31zT3VwnEs31E4jm8Uy78B7+H/5OEM13FdeglNa/DhtbOxaNrmHRqGs0tcIz+pq+rsght9+Loo+dwfvKfcxtzGF2Y1Z8nNmYwe7+m+P/vJvOYPnzqi5m92/jr0P+Gv9LEM3/if7faJykcy2/r7pwjeYdwKIBGpNdMBl6Abhn+nZLgTEaHP4TU8NPpP+kfd6X29sba6t44PAhkC/IRu7cSqUn8Weoj/4AjTH/gUdRH2A260+y+x0U4TOpd/gRZsb6pf90cs69aOiLRfGDD0PxPCj6HkGxemnavdyXhEUDeLg6oeFBhXCi1t5yWYWrvRVamk/Wd/A2eF9EMzMzg9tG34nnUP7cSmV/X3qFxK5wHcjtd1BW4Wxrgba2N9+UOMq5Fg3FBqZ4vG5ubgd3BCiYETUHHBwcMDQ0JMYVpn0oEPn+kQ+mqamJ+2gcnVD7qF5aertQH02DnjWdTouum07Xb9yUlt4u1EfTzE2nk7O3tydcJI5ijOCoqKiDJHL0PCIiAt7e3mLwcU9PT/HiPRoQiWLzUqjJ04RofP/6aHhk8Jt4N300bx/uo9EQqsG4u7uLTSSKsUt5mwgKOk3xeSmWant7u3gRUahKiixGTSo1JKabN2+yaFg0J4JFc05FQ80gukj6+vrEgMvU30JQlH6K1p+Xl4fg4GBxHWFiYnIsZCUt810nFs1JYNGc4z4aahpRrYTy83R2dorNIbpoKM8NNasGBwfF2o61tbUonY2Nl+e2cGcwi+aksGjOsWgIdScw1XDU+ZBo3c7Ojvic+mZeFb2eRcOiOSksmnMumrNwWtGQCLSZbiVex4Gv1Mn23jaUG13XWRC0NR/pfcmCQJ83Z0HQMacVDeVdoi8Cvf4khbJUyq2XK3QrXlu1JTmomRkUFCR7LEcL1XxISnLb5Mpnn30mDiHQFZ9++qnYNyd3LEcLCZAuOLltcuXChQs6y+tEtTJKUCh3HEeLpp/JJ598In4fNYVFcwboxJ9GNJTTm34ZTlKo+fD9739ffJTbLleob0lXqMcdnaRQjeGDDz6Q3SZXPDw8dHZxEpQ8Tu445ApJ8Gc/+5nsNrlCQyZ0BXUDkPzljuNouXbtmpg9VG6bXKHhHqeZHMqiOQOnFY2m0B2v94H3Kfc2ZXjUpTy0xfj4OOzs7KQl7cGiOQO6EA1NgaBOSno0dHp7e8X82+8Dubm54t1KQ6e7u1ts/mobFs0ZYNFoBotG/2DRGAAsGs1g0egfLBoDgEWjGSwa/YNFYwCwaDSDRaN/sGgMABaNZrBo9A8WjQHAotEMFo3+waIxAFg0msGi0T9YNAYAi0YzWDT6B4vGAGDRaAaLRv9g0RgALBrNYNHoHywaA4BFoxksGv2DRaMjKKre4uKitKSCsh88f/5cfK5UKsXZ1nIzVlk0msGi0T9YNDqgsLBQnBlNqVWWlpYO1lH6FQrL0NXVhZKSEjHGCwUyX1tbE/dRw6LRDBaN/sGi0TIUtpPiAlOyLYp4V1ZWJq6n5/QForgbJB06QRR1jdYdDStJyyyak8Oi0T9YNFpGnW6FmkQUgDwrK0tcX1xcLK4nCeXk5IgBhAiKWkepWNQUFBTgq6++OlW6FU1g0egnLBrNOLeiob4XiklL4Rj9/f1RW1srJpWjwEwUoY4yU1LmA4VCIX4YtG9PT4/0aoj9OrQP12hODotG/2DR6ABKEHfr1i1ERkaKEnn69Km4ztLSEq6urqJMKHcThaCkGs3RlLiUroVFc3JYNPoHi8YA4M5gzWDR6B8sGgOARaMZLBr9g0VjAOhCNATdXn8fYNHoHywaA+Bti4buhFFf0eFCfUaUo4cej27TZVqVtwGLRv9g0RgAb1s0NErZzMzsWKHOaLn19OEZEvRFozzm7wPvi2hGR0c53Yq+o6umkyFCtS0an3S40FCBn/70p8fW08DIra0t6ZWGgSGKhu6qHj33gYGB+Oijj46tp3KajJSvgkVzBlg0r4bSrNKX+HChwY8hISHH1oeGhmot57W2METR0Jixo+f+VZ8JldLSUumVZ4dFcwZYNOeX96XppCtYNGeARXN+YdFoBovmDLBozi8sGs1g0ZwBFs35hUWjGSyaM8CiOb+waDSDRXMGWDTnl7y8PPHODHMyWDRngEXz/kPhRGjW/tGSmZkpBkeT28Ych0VzBlg07z80bYImtR4tn332GX77298eW+/h4SG9kjkMi+YMsGjefygYGg0mPFpoNj2Fgz26fnNzU3olcxgWzRlg0TDMyWDRnAEWDcOcjHMtGsrdRB16FIRcTX19vRhDmNKtUD4nWqbZrSkpKWI1+jA1NTUsGoY5AedaNL6+vmKAcWdnZzGHEzE3Nyd2AFKGg76+PlFEERERmJqaErcfhkXDMCfj3IpmY2NDDEBOSeFo8BUJRw3lelIHA4qNjcW3336L9PT0l8Jp0mv++Mc/aj3dCgmuqqpKVnSGBoUpuH///rFEfMy7o7OzEw8ePMDCwoK0RjucW9GQNJycnMS8TiQRyuekhmopMTEx0pIKSsNSV1cnLUGMn0LT6LVZo6Fa1rVr18RMmvRI0dAMFUrQd/XqVfE8UtCu90Gchk54eDh+8pOfiLflP/zwQzHwmrY4102n+Ph4sdlka2uLpqYmsc+GbllSbUZ9UTc0NIgysbCwOPZBUC4obYqGjoNqAER1dbWYBsYQ2dnZweXLlzE5OSkuU1OUCvPuoB/aX/7yl2Itk6AfAOqb1BbnWjR0sqkmQ52+8/PzmJ6eFjt86eSrO35JONnZ2QcfyGG0fdeJwl6qa1r0SEI0REg0V65cwdDQkLhMwZaO1hgZ3ULf/V/84hdi3jKC8pups7Jqg3MtmrOibdGQ3G7evCnWpuhRm1VbbUMd5yQbExMT8deTxM68W5KSkvDjH/8Yly5dEgPgj42NSVvePiyaM6CLcTRLS0toaWkRHw0dappSiM/DnerMu2V4eFis1dCoZm3CojkDPGCPYU4Gi+YMsGgY5mSwaM4Ai4ZhTgaL5gxoWzQ0Vic4OFgcQ0MpMQwt9xHDqGHRnAFtiyYsLAxeXl5iJyo98tgTxlBh0ZwBbYuGUuHSGB+CHt+XZP/M+YNFcwa0LZqsrCxxuD6NCqbk+IfnYzGMIcGiOQO66AwuKCgQ5zrdu3dPWsMwhgeL5gzoQjQM8z7AojkDJJrU1FRpiWGYV0ETNlk0p4T6TkJDQ7G8vKy1srKyIt7Wpke57YZUKCQHvRe5bYZW1IHI5bYZUtHVZ0LN//HxcenK0Q8MRjQUiY9mvfr4+MDb21srhW5r//nPfxYf5bYbSqFz5OjoiG+++Uar50sXhY6fOukpjoshvxc6dhKAtj8TilJJIU7ox1KfMBjR6AIKV0EX6NF4xYbIyMiI+KV7H6ioqBDjGRk6FBGAfsTOIyyaQ5BgqMP5fRANBb7KyMiQlgwbmvFcXl4uLRkuNBiUsm6eR1g0R6C0rIz+QdEY3wfO6/fr3IuGPvjD8Weow66np0ev4+xSFL2jbXDqBDycuZGq6TTCmfJT0/70ntRR9whaHh0dlZbeHdQ5Sv1vFKuFoGOlgOoU0J4yY9C2wxcnNQkpEiO9X4LeAy1rM5DUWaDzT+9N/Z2iz0j9faPv2nmJF3TuRUNfaIqqp04YT2MQKDIdjQ5Wp4XRN9ra2uDm5iYtqbhw4cLB/CxqMlFfAE0OpducUVFRYgdkQkKC+H6jo6PFvigrKyux/+NdQnm+KMMFhU6lmM3UTKLjpZCuFPuYjpveC915KioqEo+ZOj0pM8aTJ0/EztXIyEgxeL0+QpEbP/nkE/GcU9xrGqJBwclJMDS/rrGxUdrz/YZFI1x4NK9JLRqFQoHZ2VkkJibqbR9Hc3OzeAdDzeDgIIyNjcWUNvSLSeE7KXQkfZnp15PCetLwAIJ+/ekuDkG/sPS6d5nDmlLoUNYG+sWnC48iHNIsepoSUllZKe5Dndp0oVKiwcPpY0i49NlR6FI6B/oIne+LFy+Kx0i3nEmQP//5z1FSUiIK9dGjR9Ke7zcsGkE0pqam0hLEX8uvv/5ajO06MTEhrdUv6GKkjBJq6MKk2gwJhGoE1Jwg6ZBgOjo6RDFRrU2dBZTGIxHUTKEaAuXWelfQnDKqjVESQTrW9vZ28fhovXoqCEmHapjqOza0TPtQNg16j/Se6Lk+Qk2/Tz/9VKzJUA2ZREOpV+i90GdIn815gEUjiIaS1lGfB/2yk2jo14aaUFQr0EfooiKpUHOCal+Uw4kkQjPQXVxcxLY/1dBohGhgYKBYs6G+EMr0QM0MqvHQ6ygFMY25eJcdrXSO6RhJKnTxUcodWk5LSxNrlNQXQ8dInwnlBqMkbNTXROlx8vPzxaaVPkO1LpK5Gmq+0pw6ahr++7//u7j9PHDuRUMXJNVoqApOVXe6vU23IanJQX0c+nirm6rgVAOgC5AuNPUYE5IJpVahX3xqWpE06aKk5gnJhd4fyYmaUVTDoX0OdxC/C6iPSN1EIgnSsVFfDD3SID2SC12UBDVDqC+HamskGaq50WdH70NffxSoVkw/ZPQ+qDZD75eaS/QDR7VmfW3yvW3OvWjU0J0NQ7v1+LrjPbrN0N7b65B7b/r+/gzhGLUJi4ZhGK3DomEYRuuwaBiG0TosGoZhtA6LhmEYrcOiYRhG67BoGIbROiwahmG0DPD/ASc8TaB/uuxTAAAAAElFTkSuQmCC)\n",
        "\n",
        "![image.png](\n",
        "  ![image.png](data:image/png;base64,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)\n",
        ")\n",
        "\n",
        "Esto nos confirma lo dicho anteriormente, ya que no hay una variación que afecte de manera considerable las deciiones del porcentaje estimado para la entrega o no de tarjetas.\n",
        "\n",
        "###**¿Qué podrías concluir al respecto?**\n",
        "\n",
        "Puedo concluir que cuando los datos son balanceados, se podrá tomar deciciones de manera más acertada y con rapidez en la decisiones. \n",
        "\n",
        "###**¿Se obtuvo un un buen ajuste en alguno de los modelos?**\n",
        "\n",
        "No, realmente no fue un cambio significativo, ya que los pivotes se mantuvieron casi en su posición y su proporción de la media frente a la mediana fueron estables.\n",
        "\n",
        "###**¿Están subentrenados?**\n",
        "\n",
        "No se considera un  modelo subentrenado, ya que los outlier se mantienen cerca a la línea.\n",
        "\n",
        "###**¿Están sobreentrenados?**\n",
        "\n",
        "No se considera un  modelo subreentrenado, ya que no hay sobrecarga de información que lo visualice o lo determine por sus datos.\n",
        "\n",
        "###**¿Qué otra información necesitarías para responder estas preguntas?**\n",
        "\n",
        "Filtrado de Información para ser más acertivos.\n",
        "mayor información de la persona que solicita la tarjeta. Su estabilidad laboral, las fallas de los pagos con sus tarjeta, entre otra información que nos permitan considerar la respuesta."
      ],
      "metadata": {
        "id": "D7pRZOwgNKNj"
      }
    },
    {
      "cell_type": "markdown",
      "source": [
        "##**Llevando a cabo el mejor ajuste (fine tuning)**\n",
        "\n",
        "Observamos que aunque de manera mínima se obtuvo que el modelo de regresión logística con regularización ridge $L_2$ fue el más alto, así que a manera de ejemplo continuemos con el ejercicio para mostrar la manera de encontrar una mejor configuración de los hiperparámetros mediante la llamada búsqueda por malla (grid search en inglés). \n",
        "\n",
        "Recuerda revisar la documentación correspondiente cada vez que uses un nuevo método o función, en particular revisa las siguientes dos que utilizaremos a continuación:\n",
        "\n",
        "https://scikit-learn.org/stable/modules/generated/sklearn.model_selection.GridSearchCV.html\n",
        "\n",
        "https://scikit-learn.org/stable/modules/generated/sklearn.metrics.confusion_matrix.html"
      ],
      "metadata": {
        "id": "_8uZ9wJgNUwb"
      }
    },
    {
      "cell_type": "code",
      "source": [
        "from sklearn.model_selection import GridSearchCV\n",
        "from sklearn.metrics import confusion_matrix"
      ],
      "metadata": {
        "id": "1ktA40R3NqUZ"
      },
      "execution_count": 23,
      "outputs": []
    },
    {
      "cell_type": "markdown",
      "source": [
        "Podemos realizar una búsqueda con varias opciones de los valores de algunos de los hiperparámetros y acelerar el proceso de búsqueda mediante el uso de las funciones llamados de malla, que probarán un conjunto de combinaciones durante un mismo proceso de entrenamiento. Si se tienen los recursos computacionales adecuados este timpo de entrenamiento puede ser paralelizable.\n",
        "\n",
        "Las diferentes opciones para cada parámetro seleccionado se indican a través de un diccionario. Los diccionarios son un tipo muy importante de estructura para colecciones de datos en un formato dado como \"clave:valor\". Si no conoces los diccionarios y no lo has trabajado dentro de Python, te recomendamos revisar primero la siguiente documentación al respecto, antes de seguir adelante:\n",
        "\n",
        "https://docs.python.org/3/tutorial/datastructures.html#dictionaries \n",
        "\n",
        "Ahora utilicemos un diccionario para indicar las diferentes opciones de valores que tomará cada argumento que hemos seleccionado para la función de regresión logística. Observa el formato \"clave:valor\" del diccionario \"dicc_grid\" definido a continuación, donde en particular para el modelo ridge las \"claves\" que estamos considerando son los métodos de optimización, indicados por \"solver\" y la constante \"C\" que rige el nivel de resticción de la métrica $L_2$ que se está aplicando."
      ],
      "metadata": {
        "id": "KJuJSEPzlHkZ"
      }
    },
    {
      "cell_type": "code",
      "source": [
        "# RIDGE - métrica L2:\n",
        "\n",
        "modelo = LogisticRegression(penalty='l2', max_iter=10000, random_state=1)\n",
        "\n",
        "dicc_grid = {'C':[0.0001,0.01,0.1,1.0,10.,100.],\n",
        "             'solver':['newton-cg','lbfgs','liblinear','sag','saga']\n",
        "             }\n",
        "\n",
        "cv = RepeatedStratifiedKFold(n_splits=10, n_repeats=5, random_state=8)\n",
        "\n",
        "grid = GridSearchCV(estimator=modelo, \n",
        "                    param_grid=dicc_grid, \n",
        "                    cv=cv, \n",
        "                    scoring='accuracy')\n"
      ],
      "metadata": {
        "id": "a-7Ma4XIhMmr"
      },
      "execution_count": 24,
      "outputs": []
    },
    {
      "cell_type": "code",
      "source": [
        "# Transformamos los datos de entrada:\n",
        "Xx = columnasTransformer.fit_transform(Xtv)\n",
        "\n",
        "# Llevamos a cabo el proceso de etrenamiento con validación-cruzada y búsqueda de malla.\n",
        "# Observa que de acuerdo a las opciones incluidas en la malla, se estarán realizando (6)(5)=30 \n",
        "# combinaciones diferentes, además de las (10)(5)=50 particiones de la validación-cruzada,\n",
        "# lo cual implica también un mayor tiempo de entrenamiento.\n",
        "\n",
        "grid.fit(Xx, np.ravel(ytv))\n",
        "\n",
        "print('Mejor valor de exactitud obtenido con la mejor combinación:', grid.best_score_)\n",
        "print('Mejor combinación de valores encontrados de los hiperparámetros:', grid.best_params_)\n",
        "print('Métrica utilizada:', grid.scoring)"
      ],
      "metadata": {
        "id": "r-1p6YMahMiu",
        "colab": {
          "base_uri": "https://localhost:8080/"
        },
        "outputId": "19965617-30ec-43e8-ca11-25756a9d0974"
      },
      "execution_count": 25,
      "outputs": [
        {
          "output_type": "stream",
          "name": "stdout",
          "text": [
            "Mejor valor de exactitud obtenido con la mejor combinación: 0.8695389610389609\n",
            "Mejor combinación de valores encontrados de los hiperparámetros: {'C': 100.0, 'solver': 'liblinear'}\n",
            "Métrica utilizada: accuracy\n"
          ]
        }
      ]
    },
    {
      "cell_type": "markdown",
      "source": [
        "Obtenemos una mejoría mínima de aproximadamente un $0.05\\%$ en cuanto al promedio general de la exactitud, en relación con el valor de la regularización ridge que habíamos obtenido previamente.\n",
        "\n",
        "Puedes intentar modificar los valores de estos hiperparámetros alrededor de estos valores encontrados para ver si puedes incrementar aún más dicho valor promedio. En particular se podrían intentar valores alrededor de C=100."
      ],
      "metadata": {
        "id": "6yEeLwpQk2Gh"
      }
    },
    {
      "cell_type": "markdown",
      "source": [
        "##**Modelo Final con el conjunto de prueba y conclusiones**\n",
        "\n",
        "Finalmente obtuvimos que una de las mejores configuraciones fue la regresión logística con el método de regularización $L_2$. Habría que evaluar si realmente consideramos que dicha diferencia obtenida es suficientemente mayor a la del modelo de regresión lineal sin regularización y con los parámetros predeterminados, o bien aplicar el criterio de la navaja de Ockham y quedarnos con el modelo más simple. Aunque en un challenge como los que propone Kaggle dicha diferencia mínima sería suficiente para determinar un ganador y por lo tanto valdría la pena realizar dicho ajuste.\n",
        "\n",
        "Con base a nuestro ejemplo ilustrativo, continuemos finalmente con los hiperparámetros encontrados para el mejor resultado de regularización con métrica $L_2$ encontrado, a saber, regresión logística con regularización ridge y valores de C=100.0, solver=liblinear.\n",
        "\n",
        "Para ello usemos por último el conjunto de prueba, que hasta ahora no habíamos utilizado."
      ],
      "metadata": {
        "id": "oHKIKQxmOZsr"
      }
    },
    {
      "cell_type": "code",
      "source": [
        "modelo = LogisticRegression(penalty='l2', \n",
        "                            max_iter=10000,\n",
        "                            C=100.0,\n",
        "                            solver='liblinear',\n",
        "                            random_state=1)\n",
        "\n",
        "# Entrenamos el modelo por última vez con los datos de entrenamiento y validación conjuntos:\n",
        "Xct = columnasTransformer.fit(Xtv)\n",
        "Xxt = Xct.transform(Xtv)\n",
        "modelo.fit(Xxt, np.ravel(ytv))\n",
        "\n",
        "# Transformamos los datos de prueba y los utilizamos por primera vez para obtener sus predicciones\n",
        "# y desempeño del modelo:\n",
        "\n",
        "Xxtest = Xct.transform(Xtest)\n",
        "print(modelo.score(Xxtest, np.ravel(ytest)))"
      ],
      "metadata": {
        "id": "l3gmzhamjaEa",
        "colab": {
          "base_uri": "https://localhost:8080/"
        },
        "outputId": "1110da74-65ef-42a7-94ec-e441b09004ad"
      },
      "execution_count": 26,
      "outputs": [
        {
          "output_type": "stream",
          "name": "stdout",
          "text": [
            "0.8405797101449275\n"
          ]
        }
      ]
    },
    {
      "cell_type": "markdown",
      "source": [
        "Así, finalmente podemos decir que el desempeño promedio de nuestro modelo será del $84.06\\%$ cuando se utilice en producción con los nuevos datos reales. \n",
        "\n",
        "En realidad antes de llevarlo a producción debemos verificar que el modelo no esté subentrenado o sobreentrenado. De hecho esta pregunta te la hicimos anteriormente, pero volveremos a abordar este tema con estos mismos datos la semana entrante.\n",
        "\n",
        "Por último veamos la manera en que nuestro modelo final lleva a cabo las prediciones de cada clase, se autoriza o no la tarjeta de crédito, mediante el uso de la llamada matriz de confusión: "
      ],
      "metadata": {
        "id": "FELDvX061NS8"
      }
    },
    {
      "cell_type": "code",
      "source": [
        "pp = modelo.predict(Xxtest)\n",
        "cm = confusion_matrix(ytest, pp)\n",
        "print(cm)"
      ],
      "metadata": {
        "id": "PbjecfL31BFJ",
        "colab": {
          "base_uri": "https://localhost:8080/"
        },
        "outputId": "f232ab72-9eec-4b09-d267-4dda1f33fbcf"
      },
      "execution_count": 27,
      "outputs": [
        {
          "output_type": "stream",
          "name": "stdout",
          "text": [
            "[[61 16]\n",
            " [ 6 55]]\n"
          ]
        }
      ]
    },
    {
      "cell_type": "markdown",
      "source": [
        "La matriz de confusión nos ayuda a visualizar la manera en que nuestro modelo está llevando a cabo las predicciones, es decir, la manera en que realiza predicciones correctas o incorrectas.\n",
        "\n",
        "\n",
        "###**Para entender el concepto de la matriz de confusión, realiza la lectura de la subsección \"Confusion Matrix\" del capítulo 3, \"Classification\", sección \"Performance Measures\" del libro de Aurélien Géron.**\n",
        "\n",
        "Igualmente puedes consultar la documentación de scikit-learn sobre el mismo tema:\n",
        "\n",
        "https://scikit-learn.org/stable/auto_examples/model_selection/plot_confusion_matrix.html#sphx-glr-auto-examples-model-selection-plot-confusion-matrix-py"
      ],
      "metadata": {
        "id": "QEHn6eECnL77"
      }
    },
    {
      "cell_type": "markdown",
      "source": [
        "Se puede obtener una mejor visualización de la matriz de confusión mediante las siguientes instrucciones con la librería seaborn. \n",
        "\n",
        "Ver la documentación correspondiente:\n",
        "\n",
        "https://seaborn.pydata.org/generated/seaborn.heatmap.html\n",
        "\n"
      ],
      "metadata": {
        "id": "cqu0uf68yfKM"
      }
    },
    {
      "cell_type": "code",
      "source": [
        "txt = ['Verdaderos Negativos','Falsos Positivos','Falsos Negativos','Verdaderos Positivos']\n",
        "frecuencia = [\"{0:0.0f}\".format(value) for value in cm.flatten()]\n",
        "porcentaje = [\"{0:.1%}\".format(value) for value in cm.flatten()/np.sum(cm)]\n",
        "\n",
        "labels = [f\"{v1}\\n{v2}\\n{v3}\" for v1, v2, v3 in zip(txt,frecuencia,porcentaje)]\n",
        "labels = np.asarray(labels).reshape(2,2)\n",
        "\n",
        "ax = sns.heatmap(cm, annot=labels, fmt='', cmap='Blues', cbar=False)\n",
        "ax.set(ylabel=\"Etiquetas Reales\", xlabel=\"Etiquetas de Predicción\")\n",
        "plt.show()"
      ],
      "metadata": {
        "id": "tvKZXAvFVQ7u",
        "colab": {
          "base_uri": "https://localhost:8080/",
          "height": 280
        },
        "outputId": "ada1693b-10d9-47db-d6a8-48e675bb793f"
      },
      "execution_count": 28,
      "outputs": [
        {
          "output_type": "display_data",
          "data": {
            "text/plain": [
              "<Figure size 432x288 with 1 Axes>"
            ],
            "image/png": "[encoded data removed]"
          },
          "metadata": {
            "needs_background": "light"
          }
        }
      ]
    },
    {
      "cell_type": "markdown",
      "source": [
        "# Nueva sección"
      ],
      "metadata": {
        "id": "09p7p-qY-fa0"
      }
    },
    {
      "cell_type": "markdown",
      "source": [
        "# Nueva sección"
      ],
      "metadata": {
        "id": "3kowkt2W-gps"
      }
    },
    {
      "cell_type": "markdown",
      "source": [
        "En particular observamos que las predicciones de falsos positivos es mayor que la de falsos negativos. ¿Crees que esto sea lo mejor? Es decir, qué resultaría más costoso para el banco ¿autorizar una tarjeta de crédito a un mal cliente (falso positivo), o negársela a un buen cliente (falso negativo)? ¿Qué información adicional necestitarías para contestar adecuadamente estas preguntas?"
      ],
      "metadata": {
        "id": "K5UYJfQGimnM"
      }
    },
    {
      "cell_type": "markdown",
      "source": [
        "###**--Fin de la actividad--**"
      ],
      "metadata": {
        "id": "Ry-kKwoMyWxQ"
      }
    }
  ]
}